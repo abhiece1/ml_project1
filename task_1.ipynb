{
 "cells": [
  {
   "cell_type": "code",
   "execution_count": 1,
   "id": "be1ae3e7",
   "metadata": {
    "_cell_guid": "8a9aacbc-0550-4955-b3f8-abb50035da43",
    "_uuid": "63ce78b9-6c0c-4af5-b4cf-0a4efa1360ff",
    "collapsed": false,
    "execution": {
     "iopub.execute_input": "2022-09-02T18:07:29.088179Z",
     "iopub.status.busy": "2022-09-02T18:07:29.087725Z",
     "iopub.status.idle": "2022-09-02T18:07:30.499508Z",
     "shell.execute_reply": "2022-09-02T18:07:30.498280Z"
    },
    "jupyter": {
     "outputs_hidden": false
    },
    "papermill": {
     "duration": 1.425597,
     "end_time": "2022-09-02T18:07:30.502166",
     "exception": false,
     "start_time": "2022-09-02T18:07:29.076569",
     "status": "completed"
    },
    "tags": []
   },
   "outputs": [
    {
     "name": "stdout",
     "output_type": "stream",
     "text": [
      "/kaggle/input/nasa-nearest-earth-objects/neo_v2.csv\n",
      "/kaggle/input/nasa-nearest-earth-objects/neo.csv\n"
     ]
    }
   ],
   "source": [
    "# This Python 3 environment comes with many helpful analytics libraries installed\n",
    "# It is defined by the kaggle/python Docker image: https://github.com/kaggle/docker-python\n",
    "# For example, here's several helpful packages to load\n",
    "\n",
    "\n",
    "import pandas as pd\n",
    "import numpy as np \n",
    "from sklearn.model_selection import train_test_split\n",
    "from sklearn.svm import SVC\n",
    "import seaborn as sns\n",
    "import matplotlib.pyplot as plt\n",
    "from sklearn.metrics import accuracy_score,precision_score,f1_score\n",
    "\n",
    "# Input data files are available in the read-only \"../input/\" directory\n",
    "# For example, running this (by clicking run or pressing Shift+Enter) will list all files under the input directory\n",
    "\n",
    "import os\n",
    "for dirname, _, filenames in os.walk('/kaggle/input'):\n",
    "    for filename in filenames:\n",
    "        print(os.path.join(dirname, filename))\n",
    "\n",
    "# You can write up to 20GB to the current directory (/kaggle/working/) that gets preserved as output when you create a version using \"Save & Run All\" \n",
    "# You can also write temporary files to /kaggle/temp/, but they won't be saved outside of the current session"
   ]
  },
  {
   "cell_type": "code",
   "execution_count": null,
   "id": "dfdd5473",
   "metadata": {
    "papermill": {
     "duration": 0.007368,
     "end_time": "2022-09-02T18:07:30.517626",
     "exception": false,
     "start_time": "2022-09-02T18:07:30.510258",
     "status": "completed"
    },
    "tags": []
   },
   "outputs": [],
   "source": []
  },
  {
   "cell_type": "code",
   "execution_count": 2,
   "id": "fc93c898",
   "metadata": {
    "_cell_guid": "9bfb4e3f-1485-4dea-808d-f8d989c15b39",
    "_uuid": "036db46d-f6ad-46fc-b0fc-5a54cc2e3ad9",
    "collapsed": false,
    "execution": {
     "iopub.execute_input": "2022-09-02T18:07:30.536407Z",
     "iopub.status.busy": "2022-09-02T18:07:30.535990Z",
     "iopub.status.idle": "2022-09-02T18:07:30.896901Z",
     "shell.execute_reply": "2022-09-02T18:07:30.895654Z"
    },
    "jupyter": {
     "outputs_hidden": false
    },
    "papermill": {
     "duration": 0.373343,
     "end_time": "2022-09-02T18:07:30.899572",
     "exception": false,
     "start_time": "2022-09-02T18:07:30.526229",
     "status": "completed"
    },
    "tags": []
   },
   "outputs": [
    {
     "data": {
      "text/html": [
       "<div>\n",
       "<style scoped>\n",
       "    .dataframe tbody tr th:only-of-type {\n",
       "        vertical-align: middle;\n",
       "    }\n",
       "\n",
       "    .dataframe tbody tr th {\n",
       "        vertical-align: top;\n",
       "    }\n",
       "\n",
       "    .dataframe thead th {\n",
       "        text-align: right;\n",
       "    }\n",
       "</style>\n",
       "<table border=\"1\" class=\"dataframe\">\n",
       "  <thead>\n",
       "    <tr style=\"text-align: right;\">\n",
       "      <th></th>\n",
       "      <th>id</th>\n",
       "      <th>name</th>\n",
       "      <th>est_diameter_min</th>\n",
       "      <th>est_diameter_max</th>\n",
       "      <th>relative_velocity</th>\n",
       "      <th>miss_distance</th>\n",
       "      <th>orbiting_body</th>\n",
       "      <th>sentry_object</th>\n",
       "      <th>absolute_magnitude</th>\n",
       "      <th>hazardous</th>\n",
       "    </tr>\n",
       "  </thead>\n",
       "  <tbody>\n",
       "    <tr>\n",
       "      <th>0</th>\n",
       "      <td>2162635</td>\n",
       "      <td>162635 (2000 SS164)</td>\n",
       "      <td>1.198271</td>\n",
       "      <td>2.679415</td>\n",
       "      <td>13569.249224</td>\n",
       "      <td>5.483974e+07</td>\n",
       "      <td>Earth</td>\n",
       "      <td>False</td>\n",
       "      <td>16.73</td>\n",
       "      <td>False</td>\n",
       "    </tr>\n",
       "    <tr>\n",
       "      <th>1</th>\n",
       "      <td>2277475</td>\n",
       "      <td>277475 (2005 WK4)</td>\n",
       "      <td>0.265800</td>\n",
       "      <td>0.594347</td>\n",
       "      <td>73588.726663</td>\n",
       "      <td>6.143813e+07</td>\n",
       "      <td>Earth</td>\n",
       "      <td>False</td>\n",
       "      <td>20.00</td>\n",
       "      <td>True</td>\n",
       "    </tr>\n",
       "    <tr>\n",
       "      <th>2</th>\n",
       "      <td>2512244</td>\n",
       "      <td>512244 (2015 YE18)</td>\n",
       "      <td>0.722030</td>\n",
       "      <td>1.614507</td>\n",
       "      <td>114258.692129</td>\n",
       "      <td>4.979872e+07</td>\n",
       "      <td>Earth</td>\n",
       "      <td>False</td>\n",
       "      <td>17.83</td>\n",
       "      <td>False</td>\n",
       "    </tr>\n",
       "    <tr>\n",
       "      <th>3</th>\n",
       "      <td>3596030</td>\n",
       "      <td>(2012 BV13)</td>\n",
       "      <td>0.096506</td>\n",
       "      <td>0.215794</td>\n",
       "      <td>24764.303138</td>\n",
       "      <td>2.543497e+07</td>\n",
       "      <td>Earth</td>\n",
       "      <td>False</td>\n",
       "      <td>22.20</td>\n",
       "      <td>False</td>\n",
       "    </tr>\n",
       "    <tr>\n",
       "      <th>4</th>\n",
       "      <td>3667127</td>\n",
       "      <td>(2014 GE35)</td>\n",
       "      <td>0.255009</td>\n",
       "      <td>0.570217</td>\n",
       "      <td>42737.733765</td>\n",
       "      <td>4.627557e+07</td>\n",
       "      <td>Earth</td>\n",
       "      <td>False</td>\n",
       "      <td>20.09</td>\n",
       "      <td>True</td>\n",
       "    </tr>\n",
       "    <tr>\n",
       "      <th>...</th>\n",
       "      <td>...</td>\n",
       "      <td>...</td>\n",
       "      <td>...</td>\n",
       "      <td>...</td>\n",
       "      <td>...</td>\n",
       "      <td>...</td>\n",
       "      <td>...</td>\n",
       "      <td>...</td>\n",
       "      <td>...</td>\n",
       "      <td>...</td>\n",
       "    </tr>\n",
       "    <tr>\n",
       "      <th>90831</th>\n",
       "      <td>3763337</td>\n",
       "      <td>(2016 VX1)</td>\n",
       "      <td>0.026580</td>\n",
       "      <td>0.059435</td>\n",
       "      <td>52078.886692</td>\n",
       "      <td>1.230039e+07</td>\n",
       "      <td>Earth</td>\n",
       "      <td>False</td>\n",
       "      <td>25.00</td>\n",
       "      <td>False</td>\n",
       "    </tr>\n",
       "    <tr>\n",
       "      <th>90832</th>\n",
       "      <td>3837603</td>\n",
       "      <td>(2019 AD3)</td>\n",
       "      <td>0.016771</td>\n",
       "      <td>0.037501</td>\n",
       "      <td>46114.605073</td>\n",
       "      <td>5.432121e+07</td>\n",
       "      <td>Earth</td>\n",
       "      <td>False</td>\n",
       "      <td>26.00</td>\n",
       "      <td>False</td>\n",
       "    </tr>\n",
       "    <tr>\n",
       "      <th>90833</th>\n",
       "      <td>54017201</td>\n",
       "      <td>(2020 JP3)</td>\n",
       "      <td>0.031956</td>\n",
       "      <td>0.071456</td>\n",
       "      <td>7566.807732</td>\n",
       "      <td>2.840077e+07</td>\n",
       "      <td>Earth</td>\n",
       "      <td>False</td>\n",
       "      <td>24.60</td>\n",
       "      <td>False</td>\n",
       "    </tr>\n",
       "    <tr>\n",
       "      <th>90834</th>\n",
       "      <td>54115824</td>\n",
       "      <td>(2021 CN5)</td>\n",
       "      <td>0.007321</td>\n",
       "      <td>0.016370</td>\n",
       "      <td>69199.154484</td>\n",
       "      <td>6.869206e+07</td>\n",
       "      <td>Earth</td>\n",
       "      <td>False</td>\n",
       "      <td>27.80</td>\n",
       "      <td>False</td>\n",
       "    </tr>\n",
       "    <tr>\n",
       "      <th>90835</th>\n",
       "      <td>54205447</td>\n",
       "      <td>(2021 TW7)</td>\n",
       "      <td>0.039862</td>\n",
       "      <td>0.089133</td>\n",
       "      <td>27024.455553</td>\n",
       "      <td>5.977213e+07</td>\n",
       "      <td>Earth</td>\n",
       "      <td>False</td>\n",
       "      <td>24.12</td>\n",
       "      <td>False</td>\n",
       "    </tr>\n",
       "  </tbody>\n",
       "</table>\n",
       "<p>90836 rows × 10 columns</p>\n",
       "</div>"
      ],
      "text/plain": [
       "             id                 name  est_diameter_min  est_diameter_max  \\\n",
       "0       2162635  162635 (2000 SS164)          1.198271          2.679415   \n",
       "1       2277475    277475 (2005 WK4)          0.265800          0.594347   \n",
       "2       2512244   512244 (2015 YE18)          0.722030          1.614507   \n",
       "3       3596030          (2012 BV13)          0.096506          0.215794   \n",
       "4       3667127          (2014 GE35)          0.255009          0.570217   \n",
       "...         ...                  ...               ...               ...   \n",
       "90831   3763337           (2016 VX1)          0.026580          0.059435   \n",
       "90832   3837603           (2019 AD3)          0.016771          0.037501   \n",
       "90833  54017201           (2020 JP3)          0.031956          0.071456   \n",
       "90834  54115824           (2021 CN5)          0.007321          0.016370   \n",
       "90835  54205447           (2021 TW7)          0.039862          0.089133   \n",
       "\n",
       "       relative_velocity  miss_distance orbiting_body  sentry_object  \\\n",
       "0           13569.249224   5.483974e+07         Earth          False   \n",
       "1           73588.726663   6.143813e+07         Earth          False   \n",
       "2          114258.692129   4.979872e+07         Earth          False   \n",
       "3           24764.303138   2.543497e+07         Earth          False   \n",
       "4           42737.733765   4.627557e+07         Earth          False   \n",
       "...                  ...            ...           ...            ...   \n",
       "90831       52078.886692   1.230039e+07         Earth          False   \n",
       "90832       46114.605073   5.432121e+07         Earth          False   \n",
       "90833        7566.807732   2.840077e+07         Earth          False   \n",
       "90834       69199.154484   6.869206e+07         Earth          False   \n",
       "90835       27024.455553   5.977213e+07         Earth          False   \n",
       "\n",
       "       absolute_magnitude  hazardous  \n",
       "0                   16.73      False  \n",
       "1                   20.00       True  \n",
       "2                   17.83      False  \n",
       "3                   22.20      False  \n",
       "4                   20.09       True  \n",
       "...                   ...        ...  \n",
       "90831               25.00      False  \n",
       "90832               26.00      False  \n",
       "90833               24.60      False  \n",
       "90834               27.80      False  \n",
       "90835               24.12      False  \n",
       "\n",
       "[90836 rows x 10 columns]"
      ]
     },
     "execution_count": 2,
     "metadata": {},
     "output_type": "execute_result"
    }
   ],
   "source": [
    "train =pd.read_csv(\"../input/nasa-nearest-earth-objects/neo_v2.csv\")\n",
    "train"
   ]
  },
  {
   "cell_type": "code",
   "execution_count": 3,
   "id": "b4990e34",
   "metadata": {
    "_cell_guid": "8053095c-eaed-422e-af9a-d3bbc262cae5",
    "_uuid": "88107839-1808-43c9-ae0d-18970e02d0bd",
    "collapsed": false,
    "execution": {
     "iopub.execute_input": "2022-09-02T18:07:30.918137Z",
     "iopub.status.busy": "2022-09-02T18:07:30.917694Z",
     "iopub.status.idle": "2022-09-02T18:07:30.981947Z",
     "shell.execute_reply": "2022-09-02T18:07:30.981041Z"
    },
    "jupyter": {
     "outputs_hidden": false
    },
    "papermill": {
     "duration": 0.076415,
     "end_time": "2022-09-02T18:07:30.984288",
     "exception": false,
     "start_time": "2022-09-02T18:07:30.907873",
     "status": "completed"
    },
    "tags": []
   },
   "outputs": [
    {
     "data": {
      "text/html": [
       "<div>\n",
       "<style scoped>\n",
       "    .dataframe tbody tr th:only-of-type {\n",
       "        vertical-align: middle;\n",
       "    }\n",
       "\n",
       "    .dataframe tbody tr th {\n",
       "        vertical-align: top;\n",
       "    }\n",
       "\n",
       "    .dataframe thead th {\n",
       "        text-align: right;\n",
       "    }\n",
       "</style>\n",
       "<table border=\"1\" class=\"dataframe\">\n",
       "  <thead>\n",
       "    <tr style=\"text-align: right;\">\n",
       "      <th></th>\n",
       "      <th>id</th>\n",
       "      <th>est_diameter_min</th>\n",
       "      <th>est_diameter_max</th>\n",
       "      <th>relative_velocity</th>\n",
       "      <th>miss_distance</th>\n",
       "      <th>absolute_magnitude</th>\n",
       "    </tr>\n",
       "  </thead>\n",
       "  <tbody>\n",
       "    <tr>\n",
       "      <th>count</th>\n",
       "      <td>9.083600e+04</td>\n",
       "      <td>90836.000000</td>\n",
       "      <td>90836.000000</td>\n",
       "      <td>90836.000000</td>\n",
       "      <td>9.083600e+04</td>\n",
       "      <td>90836.000000</td>\n",
       "    </tr>\n",
       "    <tr>\n",
       "      <th>mean</th>\n",
       "      <td>1.438288e+07</td>\n",
       "      <td>0.127432</td>\n",
       "      <td>0.284947</td>\n",
       "      <td>48066.918918</td>\n",
       "      <td>3.706655e+07</td>\n",
       "      <td>23.527103</td>\n",
       "    </tr>\n",
       "    <tr>\n",
       "      <th>std</th>\n",
       "      <td>2.087202e+07</td>\n",
       "      <td>0.298511</td>\n",
       "      <td>0.667491</td>\n",
       "      <td>25293.296961</td>\n",
       "      <td>2.235204e+07</td>\n",
       "      <td>2.894086</td>\n",
       "    </tr>\n",
       "    <tr>\n",
       "      <th>min</th>\n",
       "      <td>2.000433e+06</td>\n",
       "      <td>0.000609</td>\n",
       "      <td>0.001362</td>\n",
       "      <td>203.346433</td>\n",
       "      <td>6.745533e+03</td>\n",
       "      <td>9.230000</td>\n",
       "    </tr>\n",
       "    <tr>\n",
       "      <th>25%</th>\n",
       "      <td>3.448110e+06</td>\n",
       "      <td>0.019256</td>\n",
       "      <td>0.043057</td>\n",
       "      <td>28619.020645</td>\n",
       "      <td>1.721082e+07</td>\n",
       "      <td>21.340000</td>\n",
       "    </tr>\n",
       "    <tr>\n",
       "      <th>50%</th>\n",
       "      <td>3.748362e+06</td>\n",
       "      <td>0.048368</td>\n",
       "      <td>0.108153</td>\n",
       "      <td>44190.117890</td>\n",
       "      <td>3.784658e+07</td>\n",
       "      <td>23.700000</td>\n",
       "    </tr>\n",
       "    <tr>\n",
       "      <th>75%</th>\n",
       "      <td>3.884023e+06</td>\n",
       "      <td>0.143402</td>\n",
       "      <td>0.320656</td>\n",
       "      <td>62923.604633</td>\n",
       "      <td>5.654900e+07</td>\n",
       "      <td>25.700000</td>\n",
       "    </tr>\n",
       "    <tr>\n",
       "      <th>max</th>\n",
       "      <td>5.427591e+07</td>\n",
       "      <td>37.892650</td>\n",
       "      <td>84.730541</td>\n",
       "      <td>236990.128088</td>\n",
       "      <td>7.479865e+07</td>\n",
       "      <td>33.200000</td>\n",
       "    </tr>\n",
       "  </tbody>\n",
       "</table>\n",
       "</div>"
      ],
      "text/plain": [
       "                 id  est_diameter_min  est_diameter_max  relative_velocity  \\\n",
       "count  9.083600e+04      90836.000000      90836.000000       90836.000000   \n",
       "mean   1.438288e+07          0.127432          0.284947       48066.918918   \n",
       "std    2.087202e+07          0.298511          0.667491       25293.296961   \n",
       "min    2.000433e+06          0.000609          0.001362         203.346433   \n",
       "25%    3.448110e+06          0.019256          0.043057       28619.020645   \n",
       "50%    3.748362e+06          0.048368          0.108153       44190.117890   \n",
       "75%    3.884023e+06          0.143402          0.320656       62923.604633   \n",
       "max    5.427591e+07         37.892650         84.730541      236990.128088   \n",
       "\n",
       "       miss_distance  absolute_magnitude  \n",
       "count   9.083600e+04        90836.000000  \n",
       "mean    3.706655e+07           23.527103  \n",
       "std     2.235204e+07            2.894086  \n",
       "min     6.745533e+03            9.230000  \n",
       "25%     1.721082e+07           21.340000  \n",
       "50%     3.784658e+07           23.700000  \n",
       "75%     5.654900e+07           25.700000  \n",
       "max     7.479865e+07           33.200000  "
      ]
     },
     "execution_count": 3,
     "metadata": {},
     "output_type": "execute_result"
    }
   ],
   "source": [
    "train.describe()"
   ]
  },
  {
   "cell_type": "code",
   "execution_count": 4,
   "id": "fae5c060",
   "metadata": {
    "_cell_guid": "5137b53c-8de9-499b-af48-7f14937ba1e0",
    "_uuid": "16e5923c-b2cf-4929-b92d-e586e27d0b57",
    "collapsed": false,
    "execution": {
     "iopub.execute_input": "2022-09-02T18:07:31.004384Z",
     "iopub.status.busy": "2022-09-02T18:07:31.002670Z",
     "iopub.status.idle": "2022-09-02T18:07:31.031787Z",
     "shell.execute_reply": "2022-09-02T18:07:31.030695Z"
    },
    "jupyter": {
     "outputs_hidden": false
    },
    "papermill": {
     "duration": 0.041862,
     "end_time": "2022-09-02T18:07:31.034730",
     "exception": false,
     "start_time": "2022-09-02T18:07:30.992868",
     "status": "completed"
    },
    "tags": []
   },
   "outputs": [
    {
     "name": "stdout",
     "output_type": "stream",
     "text": [
      "<class 'pandas.core.frame.DataFrame'>\n",
      "RangeIndex: 90836 entries, 0 to 90835\n",
      "Data columns (total 10 columns):\n",
      " #   Column              Non-Null Count  Dtype  \n",
      "---  ------              --------------  -----  \n",
      " 0   id                  90836 non-null  int64  \n",
      " 1   name                90836 non-null  object \n",
      " 2   est_diameter_min    90836 non-null  float64\n",
      " 3   est_diameter_max    90836 non-null  float64\n",
      " 4   relative_velocity   90836 non-null  float64\n",
      " 5   miss_distance       90836 non-null  float64\n",
      " 6   orbiting_body       90836 non-null  object \n",
      " 7   sentry_object       90836 non-null  bool   \n",
      " 8   absolute_magnitude  90836 non-null  float64\n",
      " 9   hazardous           90836 non-null  bool   \n",
      "dtypes: bool(2), float64(5), int64(1), object(2)\n",
      "memory usage: 5.7+ MB\n"
     ]
    }
   ],
   "source": [
    "train.info()"
   ]
  },
  {
   "cell_type": "code",
   "execution_count": 5,
   "id": "6562e37c",
   "metadata": {
    "_cell_guid": "60107785-77ee-4a70-8a26-700f0bf48117",
    "_uuid": "3e7a9fed-9335-49c4-b009-389ad5b5655f",
    "collapsed": false,
    "execution": {
     "iopub.execute_input": "2022-09-02T18:07:31.053542Z",
     "iopub.status.busy": "2022-09-02T18:07:31.053143Z",
     "iopub.status.idle": "2022-09-02T18:07:31.069233Z",
     "shell.execute_reply": "2022-09-02T18:07:31.068170Z"
    },
    "jupyter": {
     "outputs_hidden": false
    },
    "papermill": {
     "duration": 0.028226,
     "end_time": "2022-09-02T18:07:31.071513",
     "exception": false,
     "start_time": "2022-09-02T18:07:31.043287",
     "status": "completed"
    },
    "tags": []
   },
   "outputs": [
    {
     "data": {
      "text/html": [
       "<div>\n",
       "<style scoped>\n",
       "    .dataframe tbody tr th:only-of-type {\n",
       "        vertical-align: middle;\n",
       "    }\n",
       "\n",
       "    .dataframe tbody tr th {\n",
       "        vertical-align: top;\n",
       "    }\n",
       "\n",
       "    .dataframe thead th {\n",
       "        text-align: right;\n",
       "    }\n",
       "</style>\n",
       "<table border=\"1\" class=\"dataframe\">\n",
       "  <thead>\n",
       "    <tr style=\"text-align: right;\">\n",
       "      <th></th>\n",
       "      <th>id</th>\n",
       "      <th>name</th>\n",
       "      <th>est_diameter_min</th>\n",
       "      <th>est_diameter_max</th>\n",
       "      <th>relative_velocity</th>\n",
       "      <th>miss_distance</th>\n",
       "      <th>orbiting_body</th>\n",
       "      <th>sentry_object</th>\n",
       "      <th>absolute_magnitude</th>\n",
       "      <th>hazardous</th>\n",
       "    </tr>\n",
       "  </thead>\n",
       "  <tbody>\n",
       "    <tr>\n",
       "      <th>0</th>\n",
       "      <td>2162635</td>\n",
       "      <td>162635 (2000 SS164)</td>\n",
       "      <td>1.198271</td>\n",
       "      <td>2.679415</td>\n",
       "      <td>13569.249224</td>\n",
       "      <td>5.483974e+07</td>\n",
       "      <td>Earth</td>\n",
       "      <td>False</td>\n",
       "      <td>16.73</td>\n",
       "      <td>False</td>\n",
       "    </tr>\n",
       "    <tr>\n",
       "      <th>1</th>\n",
       "      <td>2277475</td>\n",
       "      <td>277475 (2005 WK4)</td>\n",
       "      <td>0.265800</td>\n",
       "      <td>0.594347</td>\n",
       "      <td>73588.726663</td>\n",
       "      <td>6.143813e+07</td>\n",
       "      <td>Earth</td>\n",
       "      <td>False</td>\n",
       "      <td>20.00</td>\n",
       "      <td>True</td>\n",
       "    </tr>\n",
       "    <tr>\n",
       "      <th>2</th>\n",
       "      <td>2512244</td>\n",
       "      <td>512244 (2015 YE18)</td>\n",
       "      <td>0.722030</td>\n",
       "      <td>1.614507</td>\n",
       "      <td>114258.692129</td>\n",
       "      <td>4.979872e+07</td>\n",
       "      <td>Earth</td>\n",
       "      <td>False</td>\n",
       "      <td>17.83</td>\n",
       "      <td>False</td>\n",
       "    </tr>\n",
       "    <tr>\n",
       "      <th>3</th>\n",
       "      <td>3596030</td>\n",
       "      <td>(2012 BV13)</td>\n",
       "      <td>0.096506</td>\n",
       "      <td>0.215794</td>\n",
       "      <td>24764.303138</td>\n",
       "      <td>2.543497e+07</td>\n",
       "      <td>Earth</td>\n",
       "      <td>False</td>\n",
       "      <td>22.20</td>\n",
       "      <td>False</td>\n",
       "    </tr>\n",
       "    <tr>\n",
       "      <th>4</th>\n",
       "      <td>3667127</td>\n",
       "      <td>(2014 GE35)</td>\n",
       "      <td>0.255009</td>\n",
       "      <td>0.570217</td>\n",
       "      <td>42737.733765</td>\n",
       "      <td>4.627557e+07</td>\n",
       "      <td>Earth</td>\n",
       "      <td>False</td>\n",
       "      <td>20.09</td>\n",
       "      <td>True</td>\n",
       "    </tr>\n",
       "  </tbody>\n",
       "</table>\n",
       "</div>"
      ],
      "text/plain": [
       "        id                 name  est_diameter_min  est_diameter_max  \\\n",
       "0  2162635  162635 (2000 SS164)          1.198271          2.679415   \n",
       "1  2277475    277475 (2005 WK4)          0.265800          0.594347   \n",
       "2  2512244   512244 (2015 YE18)          0.722030          1.614507   \n",
       "3  3596030          (2012 BV13)          0.096506          0.215794   \n",
       "4  3667127          (2014 GE35)          0.255009          0.570217   \n",
       "\n",
       "   relative_velocity  miss_distance orbiting_body  sentry_object  \\\n",
       "0       13569.249224   5.483974e+07         Earth          False   \n",
       "1       73588.726663   6.143813e+07         Earth          False   \n",
       "2      114258.692129   4.979872e+07         Earth          False   \n",
       "3       24764.303138   2.543497e+07         Earth          False   \n",
       "4       42737.733765   4.627557e+07         Earth          False   \n",
       "\n",
       "   absolute_magnitude  hazardous  \n",
       "0               16.73      False  \n",
       "1               20.00       True  \n",
       "2               17.83      False  \n",
       "3               22.20      False  \n",
       "4               20.09       True  "
      ]
     },
     "execution_count": 5,
     "metadata": {},
     "output_type": "execute_result"
    }
   ],
   "source": [
    "train.head()"
   ]
  },
  {
   "cell_type": "markdown",
   "id": "48661e09",
   "metadata": {
    "_cell_guid": "80303b14-2fdd-4d6e-8742-b6c9c3f62a2f",
    "_uuid": "5662918f-2497-404c-b4b0-fba34036273f",
    "papermill": {
     "duration": 0.008476,
     "end_time": "2022-09-02T18:07:31.088908",
     "exception": false,
     "start_time": "2022-09-02T18:07:31.080432",
     "status": "completed"
    },
    "tags": []
   },
   "source": [
    "**Removing unnecessary data**"
   ]
  },
  {
   "cell_type": "code",
   "execution_count": 6,
   "id": "9e810a14",
   "metadata": {
    "_cell_guid": "dddbf8f2-fdbe-475b-beed-3c962cace762",
    "_uuid": "5a68cea9-6067-4c8f-b477-e84f34fe025c",
    "collapsed": false,
    "execution": {
     "iopub.execute_input": "2022-09-02T18:07:31.109172Z",
     "iopub.status.busy": "2022-09-02T18:07:31.108686Z",
     "iopub.status.idle": "2022-09-02T18:07:31.128269Z",
     "shell.execute_reply": "2022-09-02T18:07:31.127221Z"
    },
    "jupyter": {
     "outputs_hidden": false
    },
    "papermill": {
     "duration": 0.031861,
     "end_time": "2022-09-02T18:07:31.130475",
     "exception": false,
     "start_time": "2022-09-02T18:07:31.098614",
     "status": "completed"
    },
    "tags": []
   },
   "outputs": [
    {
     "data": {
      "text/html": [
       "<div>\n",
       "<style scoped>\n",
       "    .dataframe tbody tr th:only-of-type {\n",
       "        vertical-align: middle;\n",
       "    }\n",
       "\n",
       "    .dataframe tbody tr th {\n",
       "        vertical-align: top;\n",
       "    }\n",
       "\n",
       "    .dataframe thead th {\n",
       "        text-align: right;\n",
       "    }\n",
       "</style>\n",
       "<table border=\"1\" class=\"dataframe\">\n",
       "  <thead>\n",
       "    <tr style=\"text-align: right;\">\n",
       "      <th></th>\n",
       "      <th>est_diameter_min</th>\n",
       "      <th>est_diameter_max</th>\n",
       "      <th>relative_velocity</th>\n",
       "      <th>miss_distance</th>\n",
       "      <th>absolute_magnitude</th>\n",
       "      <th>hazardous</th>\n",
       "    </tr>\n",
       "  </thead>\n",
       "  <tbody>\n",
       "    <tr>\n",
       "      <th>0</th>\n",
       "      <td>1.198271</td>\n",
       "      <td>2.679415</td>\n",
       "      <td>13569.249224</td>\n",
       "      <td>5.483974e+07</td>\n",
       "      <td>16.73</td>\n",
       "      <td>False</td>\n",
       "    </tr>\n",
       "    <tr>\n",
       "      <th>1</th>\n",
       "      <td>0.265800</td>\n",
       "      <td>0.594347</td>\n",
       "      <td>73588.726663</td>\n",
       "      <td>6.143813e+07</td>\n",
       "      <td>20.00</td>\n",
       "      <td>True</td>\n",
       "    </tr>\n",
       "    <tr>\n",
       "      <th>2</th>\n",
       "      <td>0.722030</td>\n",
       "      <td>1.614507</td>\n",
       "      <td>114258.692129</td>\n",
       "      <td>4.979872e+07</td>\n",
       "      <td>17.83</td>\n",
       "      <td>False</td>\n",
       "    </tr>\n",
       "    <tr>\n",
       "      <th>3</th>\n",
       "      <td>0.096506</td>\n",
       "      <td>0.215794</td>\n",
       "      <td>24764.303138</td>\n",
       "      <td>2.543497e+07</td>\n",
       "      <td>22.20</td>\n",
       "      <td>False</td>\n",
       "    </tr>\n",
       "    <tr>\n",
       "      <th>4</th>\n",
       "      <td>0.255009</td>\n",
       "      <td>0.570217</td>\n",
       "      <td>42737.733765</td>\n",
       "      <td>4.627557e+07</td>\n",
       "      <td>20.09</td>\n",
       "      <td>True</td>\n",
       "    </tr>\n",
       "    <tr>\n",
       "      <th>...</th>\n",
       "      <td>...</td>\n",
       "      <td>...</td>\n",
       "      <td>...</td>\n",
       "      <td>...</td>\n",
       "      <td>...</td>\n",
       "      <td>...</td>\n",
       "    </tr>\n",
       "    <tr>\n",
       "      <th>90831</th>\n",
       "      <td>0.026580</td>\n",
       "      <td>0.059435</td>\n",
       "      <td>52078.886692</td>\n",
       "      <td>1.230039e+07</td>\n",
       "      <td>25.00</td>\n",
       "      <td>False</td>\n",
       "    </tr>\n",
       "    <tr>\n",
       "      <th>90832</th>\n",
       "      <td>0.016771</td>\n",
       "      <td>0.037501</td>\n",
       "      <td>46114.605073</td>\n",
       "      <td>5.432121e+07</td>\n",
       "      <td>26.00</td>\n",
       "      <td>False</td>\n",
       "    </tr>\n",
       "    <tr>\n",
       "      <th>90833</th>\n",
       "      <td>0.031956</td>\n",
       "      <td>0.071456</td>\n",
       "      <td>7566.807732</td>\n",
       "      <td>2.840077e+07</td>\n",
       "      <td>24.60</td>\n",
       "      <td>False</td>\n",
       "    </tr>\n",
       "    <tr>\n",
       "      <th>90834</th>\n",
       "      <td>0.007321</td>\n",
       "      <td>0.016370</td>\n",
       "      <td>69199.154484</td>\n",
       "      <td>6.869206e+07</td>\n",
       "      <td>27.80</td>\n",
       "      <td>False</td>\n",
       "    </tr>\n",
       "    <tr>\n",
       "      <th>90835</th>\n",
       "      <td>0.039862</td>\n",
       "      <td>0.089133</td>\n",
       "      <td>27024.455553</td>\n",
       "      <td>5.977213e+07</td>\n",
       "      <td>24.12</td>\n",
       "      <td>False</td>\n",
       "    </tr>\n",
       "  </tbody>\n",
       "</table>\n",
       "<p>90836 rows × 6 columns</p>\n",
       "</div>"
      ],
      "text/plain": [
       "       est_diameter_min  est_diameter_max  relative_velocity  miss_distance  \\\n",
       "0              1.198271          2.679415       13569.249224   5.483974e+07   \n",
       "1              0.265800          0.594347       73588.726663   6.143813e+07   \n",
       "2              0.722030          1.614507      114258.692129   4.979872e+07   \n",
       "3              0.096506          0.215794       24764.303138   2.543497e+07   \n",
       "4              0.255009          0.570217       42737.733765   4.627557e+07   \n",
       "...                 ...               ...                ...            ...   \n",
       "90831          0.026580          0.059435       52078.886692   1.230039e+07   \n",
       "90832          0.016771          0.037501       46114.605073   5.432121e+07   \n",
       "90833          0.031956          0.071456        7566.807732   2.840077e+07   \n",
       "90834          0.007321          0.016370       69199.154484   6.869206e+07   \n",
       "90835          0.039862          0.089133       27024.455553   5.977213e+07   \n",
       "\n",
       "       absolute_magnitude  hazardous  \n",
       "0                   16.73      False  \n",
       "1                   20.00       True  \n",
       "2                   17.83      False  \n",
       "3                   22.20      False  \n",
       "4                   20.09       True  \n",
       "...                   ...        ...  \n",
       "90831               25.00      False  \n",
       "90832               26.00      False  \n",
       "90833               24.60      False  \n",
       "90834               27.80      False  \n",
       "90835               24.12      False  \n",
       "\n",
       "[90836 rows x 6 columns]"
      ]
     },
     "execution_count": 6,
     "metadata": {},
     "output_type": "execute_result"
    }
   ],
   "source": [
    "train=train.drop(['id','orbiting_body','sentry_object','name'],axis=1)\n",
    "train"
   ]
  },
  {
   "cell_type": "code",
   "execution_count": 7,
   "id": "e5557a34",
   "metadata": {
    "_cell_guid": "c26f69d4-2ee3-42c8-bad6-307700adf990",
    "_uuid": "f19136b5-c698-4ecd-993d-b7c33b504c17",
    "collapsed": false,
    "execution": {
     "iopub.execute_input": "2022-09-02T18:07:31.150325Z",
     "iopub.status.busy": "2022-09-02T18:07:31.149913Z",
     "iopub.status.idle": "2022-09-02T18:07:31.170217Z",
     "shell.execute_reply": "2022-09-02T18:07:31.169107Z"
    },
    "jupyter": {
     "outputs_hidden": false
    },
    "papermill": {
     "duration": 0.033037,
     "end_time": "2022-09-02T18:07:31.172597",
     "exception": false,
     "start_time": "2022-09-02T18:07:31.139560",
     "status": "completed"
    },
    "tags": []
   },
   "outputs": [
    {
     "data": {
      "text/html": [
       "<div>\n",
       "<style scoped>\n",
       "    .dataframe tbody tr th:only-of-type {\n",
       "        vertical-align: middle;\n",
       "    }\n",
       "\n",
       "    .dataframe tbody tr th {\n",
       "        vertical-align: top;\n",
       "    }\n",
       "\n",
       "    .dataframe thead th {\n",
       "        text-align: right;\n",
       "    }\n",
       "</style>\n",
       "<table border=\"1\" class=\"dataframe\">\n",
       "  <thead>\n",
       "    <tr style=\"text-align: right;\">\n",
       "      <th></th>\n",
       "      <th>est_diameter_min</th>\n",
       "      <th>est_diameter_max</th>\n",
       "      <th>relative_velocity</th>\n",
       "      <th>miss_distance</th>\n",
       "      <th>absolute_magnitude</th>\n",
       "      <th>hazardous</th>\n",
       "    </tr>\n",
       "  </thead>\n",
       "  <tbody>\n",
       "    <tr>\n",
       "      <th>0</th>\n",
       "      <td>1.198271</td>\n",
       "      <td>2.679415</td>\n",
       "      <td>13569.249224</td>\n",
       "      <td>5.483974e+07</td>\n",
       "      <td>16.73</td>\n",
       "      <td>0</td>\n",
       "    </tr>\n",
       "    <tr>\n",
       "      <th>1</th>\n",
       "      <td>0.265800</td>\n",
       "      <td>0.594347</td>\n",
       "      <td>73588.726663</td>\n",
       "      <td>6.143813e+07</td>\n",
       "      <td>20.00</td>\n",
       "      <td>1</td>\n",
       "    </tr>\n",
       "    <tr>\n",
       "      <th>2</th>\n",
       "      <td>0.722030</td>\n",
       "      <td>1.614507</td>\n",
       "      <td>114258.692129</td>\n",
       "      <td>4.979872e+07</td>\n",
       "      <td>17.83</td>\n",
       "      <td>0</td>\n",
       "    </tr>\n",
       "    <tr>\n",
       "      <th>3</th>\n",
       "      <td>0.096506</td>\n",
       "      <td>0.215794</td>\n",
       "      <td>24764.303138</td>\n",
       "      <td>2.543497e+07</td>\n",
       "      <td>22.20</td>\n",
       "      <td>0</td>\n",
       "    </tr>\n",
       "    <tr>\n",
       "      <th>4</th>\n",
       "      <td>0.255009</td>\n",
       "      <td>0.570217</td>\n",
       "      <td>42737.733765</td>\n",
       "      <td>4.627557e+07</td>\n",
       "      <td>20.09</td>\n",
       "      <td>1</td>\n",
       "    </tr>\n",
       "    <tr>\n",
       "      <th>...</th>\n",
       "      <td>...</td>\n",
       "      <td>...</td>\n",
       "      <td>...</td>\n",
       "      <td>...</td>\n",
       "      <td>...</td>\n",
       "      <td>...</td>\n",
       "    </tr>\n",
       "    <tr>\n",
       "      <th>90831</th>\n",
       "      <td>0.026580</td>\n",
       "      <td>0.059435</td>\n",
       "      <td>52078.886692</td>\n",
       "      <td>1.230039e+07</td>\n",
       "      <td>25.00</td>\n",
       "      <td>0</td>\n",
       "    </tr>\n",
       "    <tr>\n",
       "      <th>90832</th>\n",
       "      <td>0.016771</td>\n",
       "      <td>0.037501</td>\n",
       "      <td>46114.605073</td>\n",
       "      <td>5.432121e+07</td>\n",
       "      <td>26.00</td>\n",
       "      <td>0</td>\n",
       "    </tr>\n",
       "    <tr>\n",
       "      <th>90833</th>\n",
       "      <td>0.031956</td>\n",
       "      <td>0.071456</td>\n",
       "      <td>7566.807732</td>\n",
       "      <td>2.840077e+07</td>\n",
       "      <td>24.60</td>\n",
       "      <td>0</td>\n",
       "    </tr>\n",
       "    <tr>\n",
       "      <th>90834</th>\n",
       "      <td>0.007321</td>\n",
       "      <td>0.016370</td>\n",
       "      <td>69199.154484</td>\n",
       "      <td>6.869206e+07</td>\n",
       "      <td>27.80</td>\n",
       "      <td>0</td>\n",
       "    </tr>\n",
       "    <tr>\n",
       "      <th>90835</th>\n",
       "      <td>0.039862</td>\n",
       "      <td>0.089133</td>\n",
       "      <td>27024.455553</td>\n",
       "      <td>5.977213e+07</td>\n",
       "      <td>24.12</td>\n",
       "      <td>0</td>\n",
       "    </tr>\n",
       "  </tbody>\n",
       "</table>\n",
       "<p>90836 rows × 6 columns</p>\n",
       "</div>"
      ],
      "text/plain": [
       "       est_diameter_min  est_diameter_max  relative_velocity  miss_distance  \\\n",
       "0              1.198271          2.679415       13569.249224   5.483974e+07   \n",
       "1              0.265800          0.594347       73588.726663   6.143813e+07   \n",
       "2              0.722030          1.614507      114258.692129   4.979872e+07   \n",
       "3              0.096506          0.215794       24764.303138   2.543497e+07   \n",
       "4              0.255009          0.570217       42737.733765   4.627557e+07   \n",
       "...                 ...               ...                ...            ...   \n",
       "90831          0.026580          0.059435       52078.886692   1.230039e+07   \n",
       "90832          0.016771          0.037501       46114.605073   5.432121e+07   \n",
       "90833          0.031956          0.071456        7566.807732   2.840077e+07   \n",
       "90834          0.007321          0.016370       69199.154484   6.869206e+07   \n",
       "90835          0.039862          0.089133       27024.455553   5.977213e+07   \n",
       "\n",
       "       absolute_magnitude  hazardous  \n",
       "0                   16.73          0  \n",
       "1                   20.00          1  \n",
       "2                   17.83          0  \n",
       "3                   22.20          0  \n",
       "4                   20.09          1  \n",
       "...                   ...        ...  \n",
       "90831               25.00          0  \n",
       "90832               26.00          0  \n",
       "90833               24.60          0  \n",
       "90834               27.80          0  \n",
       "90835               24.12          0  \n",
       "\n",
       "[90836 rows x 6 columns]"
      ]
     },
     "execution_count": 7,
     "metadata": {},
     "output_type": "execute_result"
    }
   ],
   "source": [
    "from sklearn.preprocessing import LabelEncoder\n",
    "le=LabelEncoder()\n",
    "train['hazardous']=le.fit_transform(train['hazardous'])\n",
    "train"
   ]
  },
  {
   "cell_type": "code",
   "execution_count": 8,
   "id": "fe5808d4",
   "metadata": {
    "_cell_guid": "587412a6-d8c6-4247-ab6b-ed5f3ec2bca5",
    "_uuid": "b37c9652-4be3-4ab1-b524-1fb15cc1655a",
    "collapsed": false,
    "execution": {
     "iopub.execute_input": "2022-09-02T18:07:31.193211Z",
     "iopub.status.busy": "2022-09-02T18:07:31.192551Z",
     "iopub.status.idle": "2022-09-02T18:07:31.201061Z",
     "shell.execute_reply": "2022-09-02T18:07:31.200230Z"
    },
    "jupyter": {
     "outputs_hidden": false
    },
    "papermill": {
     "duration": 0.021044,
     "end_time": "2022-09-02T18:07:31.203044",
     "exception": false,
     "start_time": "2022-09-02T18:07:31.182000",
     "status": "completed"
    },
    "tags": []
   },
   "outputs": [],
   "source": [
    "X=train.drop(['hazardous'],axis=1)\n",
    "y=train['hazardous']"
   ]
  },
  {
   "cell_type": "code",
   "execution_count": 9,
   "id": "789bb1f6",
   "metadata": {
    "_cell_guid": "71ad537a-631a-49b0-946c-4d5e08790e68",
    "_uuid": "d6b9a45c-99b0-4f17-bd9a-1963d5611b99",
    "collapsed": false,
    "execution": {
     "iopub.execute_input": "2022-09-02T18:07:31.223685Z",
     "iopub.status.busy": "2022-09-02T18:07:31.222984Z",
     "iopub.status.idle": "2022-09-02T18:07:31.238489Z",
     "shell.execute_reply": "2022-09-02T18:07:31.237330Z"
    },
    "jupyter": {
     "outputs_hidden": false
    },
    "papermill": {
     "duration": 0.028681,
     "end_time": "2022-09-02T18:07:31.241154",
     "exception": false,
     "start_time": "2022-09-02T18:07:31.212473",
     "status": "completed"
    },
    "tags": []
   },
   "outputs": [
    {
     "data": {
      "text/html": [
       "<div>\n",
       "<style scoped>\n",
       "    .dataframe tbody tr th:only-of-type {\n",
       "        vertical-align: middle;\n",
       "    }\n",
       "\n",
       "    .dataframe tbody tr th {\n",
       "        vertical-align: top;\n",
       "    }\n",
       "\n",
       "    .dataframe thead th {\n",
       "        text-align: right;\n",
       "    }\n",
       "</style>\n",
       "<table border=\"1\" class=\"dataframe\">\n",
       "  <thead>\n",
       "    <tr style=\"text-align: right;\">\n",
       "      <th></th>\n",
       "      <th>est_diameter_min</th>\n",
       "      <th>est_diameter_max</th>\n",
       "      <th>relative_velocity</th>\n",
       "      <th>miss_distance</th>\n",
       "      <th>absolute_magnitude</th>\n",
       "    </tr>\n",
       "  </thead>\n",
       "  <tbody>\n",
       "    <tr>\n",
       "      <th>0</th>\n",
       "      <td>1.198271</td>\n",
       "      <td>2.679415</td>\n",
       "      <td>13569.249224</td>\n",
       "      <td>5.483974e+07</td>\n",
       "      <td>16.73</td>\n",
       "    </tr>\n",
       "    <tr>\n",
       "      <th>1</th>\n",
       "      <td>0.265800</td>\n",
       "      <td>0.594347</td>\n",
       "      <td>73588.726663</td>\n",
       "      <td>6.143813e+07</td>\n",
       "      <td>20.00</td>\n",
       "    </tr>\n",
       "    <tr>\n",
       "      <th>2</th>\n",
       "      <td>0.722030</td>\n",
       "      <td>1.614507</td>\n",
       "      <td>114258.692129</td>\n",
       "      <td>4.979872e+07</td>\n",
       "      <td>17.83</td>\n",
       "    </tr>\n",
       "    <tr>\n",
       "      <th>3</th>\n",
       "      <td>0.096506</td>\n",
       "      <td>0.215794</td>\n",
       "      <td>24764.303138</td>\n",
       "      <td>2.543497e+07</td>\n",
       "      <td>22.20</td>\n",
       "    </tr>\n",
       "    <tr>\n",
       "      <th>4</th>\n",
       "      <td>0.255009</td>\n",
       "      <td>0.570217</td>\n",
       "      <td>42737.733765</td>\n",
       "      <td>4.627557e+07</td>\n",
       "      <td>20.09</td>\n",
       "    </tr>\n",
       "    <tr>\n",
       "      <th>...</th>\n",
       "      <td>...</td>\n",
       "      <td>...</td>\n",
       "      <td>...</td>\n",
       "      <td>...</td>\n",
       "      <td>...</td>\n",
       "    </tr>\n",
       "    <tr>\n",
       "      <th>90831</th>\n",
       "      <td>0.026580</td>\n",
       "      <td>0.059435</td>\n",
       "      <td>52078.886692</td>\n",
       "      <td>1.230039e+07</td>\n",
       "      <td>25.00</td>\n",
       "    </tr>\n",
       "    <tr>\n",
       "      <th>90832</th>\n",
       "      <td>0.016771</td>\n",
       "      <td>0.037501</td>\n",
       "      <td>46114.605073</td>\n",
       "      <td>5.432121e+07</td>\n",
       "      <td>26.00</td>\n",
       "    </tr>\n",
       "    <tr>\n",
       "      <th>90833</th>\n",
       "      <td>0.031956</td>\n",
       "      <td>0.071456</td>\n",
       "      <td>7566.807732</td>\n",
       "      <td>2.840077e+07</td>\n",
       "      <td>24.60</td>\n",
       "    </tr>\n",
       "    <tr>\n",
       "      <th>90834</th>\n",
       "      <td>0.007321</td>\n",
       "      <td>0.016370</td>\n",
       "      <td>69199.154484</td>\n",
       "      <td>6.869206e+07</td>\n",
       "      <td>27.80</td>\n",
       "    </tr>\n",
       "    <tr>\n",
       "      <th>90835</th>\n",
       "      <td>0.039862</td>\n",
       "      <td>0.089133</td>\n",
       "      <td>27024.455553</td>\n",
       "      <td>5.977213e+07</td>\n",
       "      <td>24.12</td>\n",
       "    </tr>\n",
       "  </tbody>\n",
       "</table>\n",
       "<p>90836 rows × 5 columns</p>\n",
       "</div>"
      ],
      "text/plain": [
       "       est_diameter_min  est_diameter_max  relative_velocity  miss_distance  \\\n",
       "0              1.198271          2.679415       13569.249224   5.483974e+07   \n",
       "1              0.265800          0.594347       73588.726663   6.143813e+07   \n",
       "2              0.722030          1.614507      114258.692129   4.979872e+07   \n",
       "3              0.096506          0.215794       24764.303138   2.543497e+07   \n",
       "4              0.255009          0.570217       42737.733765   4.627557e+07   \n",
       "...                 ...               ...                ...            ...   \n",
       "90831          0.026580          0.059435       52078.886692   1.230039e+07   \n",
       "90832          0.016771          0.037501       46114.605073   5.432121e+07   \n",
       "90833          0.031956          0.071456        7566.807732   2.840077e+07   \n",
       "90834          0.007321          0.016370       69199.154484   6.869206e+07   \n",
       "90835          0.039862          0.089133       27024.455553   5.977213e+07   \n",
       "\n",
       "       absolute_magnitude  \n",
       "0                   16.73  \n",
       "1                   20.00  \n",
       "2                   17.83  \n",
       "3                   22.20  \n",
       "4                   20.09  \n",
       "...                   ...  \n",
       "90831               25.00  \n",
       "90832               26.00  \n",
       "90833               24.60  \n",
       "90834               27.80  \n",
       "90835               24.12  \n",
       "\n",
       "[90836 rows x 5 columns]"
      ]
     },
     "execution_count": 9,
     "metadata": {},
     "output_type": "execute_result"
    }
   ],
   "source": [
    "X"
   ]
  },
  {
   "cell_type": "code",
   "execution_count": 10,
   "id": "615c55a7",
   "metadata": {
    "_cell_guid": "8ac66381-4dbc-49b0-8f3d-1e12147829ec",
    "_uuid": "9e336e70-2e1a-4f06-88d1-8668660a19ca",
    "collapsed": false,
    "execution": {
     "iopub.execute_input": "2022-09-02T18:07:31.262733Z",
     "iopub.status.busy": "2022-09-02T18:07:31.262051Z",
     "iopub.status.idle": "2022-09-02T18:07:31.270600Z",
     "shell.execute_reply": "2022-09-02T18:07:31.269604Z"
    },
    "jupyter": {
     "outputs_hidden": false
    },
    "papermill": {
     "duration": 0.02213,
     "end_time": "2022-09-02T18:07:31.272814",
     "exception": false,
     "start_time": "2022-09-02T18:07:31.250684",
     "status": "completed"
    },
    "tags": []
   },
   "outputs": [
    {
     "data": {
      "text/plain": [
       "0        0\n",
       "1        1\n",
       "2        0\n",
       "3        0\n",
       "4        1\n",
       "        ..\n",
       "90831    0\n",
       "90832    0\n",
       "90833    0\n",
       "90834    0\n",
       "90835    0\n",
       "Name: hazardous, Length: 90836, dtype: int64"
      ]
     },
     "execution_count": 10,
     "metadata": {},
     "output_type": "execute_result"
    }
   ],
   "source": [
    "y"
   ]
  },
  {
   "cell_type": "code",
   "execution_count": 11,
   "id": "872aad04",
   "metadata": {
    "_cell_guid": "1449efb8-edab-4db1-8815-a01d7d0ae1b4",
    "_uuid": "e0bd7786-d8bd-4312-b066-0e4190489a23",
    "collapsed": false,
    "execution": {
     "iopub.execute_input": "2022-09-02T18:07:31.294181Z",
     "iopub.status.busy": "2022-09-02T18:07:31.293751Z",
     "iopub.status.idle": "2022-09-02T18:07:31.311404Z",
     "shell.execute_reply": "2022-09-02T18:07:31.310430Z"
    },
    "jupyter": {
     "outputs_hidden": false
    },
    "papermill": {
     "duration": 0.031218,
     "end_time": "2022-09-02T18:07:31.313832",
     "exception": false,
     "start_time": "2022-09-02T18:07:31.282614",
     "status": "completed"
    },
    "tags": []
   },
   "outputs": [],
   "source": [
    "X_train,X_test,y_train,y_test=train_test_split(X,y,test_size=0.3)"
   ]
  },
  {
   "cell_type": "code",
   "execution_count": 12,
   "id": "2bf3cb10",
   "metadata": {
    "_cell_guid": "2bb9bb55-bc58-43ed-9eea-bbc036cfe49d",
    "_uuid": "b6418a60-61a2-42c0-9d50-0ef42d497caf",
    "collapsed": false,
    "execution": {
     "iopub.execute_input": "2022-09-02T18:07:31.335109Z",
     "iopub.status.busy": "2022-09-02T18:07:31.334691Z",
     "iopub.status.idle": "2022-09-02T18:07:31.350917Z",
     "shell.execute_reply": "2022-09-02T18:07:31.349746Z"
    },
    "jupyter": {
     "outputs_hidden": false
    },
    "papermill": {
     "duration": 0.029675,
     "end_time": "2022-09-02T18:07:31.353292",
     "exception": false,
     "start_time": "2022-09-02T18:07:31.323617",
     "status": "completed"
    },
    "tags": []
   },
   "outputs": [
    {
     "data": {
      "text/html": [
       "<div>\n",
       "<style scoped>\n",
       "    .dataframe tbody tr th:only-of-type {\n",
       "        vertical-align: middle;\n",
       "    }\n",
       "\n",
       "    .dataframe tbody tr th {\n",
       "        vertical-align: top;\n",
       "    }\n",
       "\n",
       "    .dataframe thead th {\n",
       "        text-align: right;\n",
       "    }\n",
       "</style>\n",
       "<table border=\"1\" class=\"dataframe\">\n",
       "  <thead>\n",
       "    <tr style=\"text-align: right;\">\n",
       "      <th></th>\n",
       "      <th>est_diameter_min</th>\n",
       "      <th>est_diameter_max</th>\n",
       "      <th>relative_velocity</th>\n",
       "      <th>miss_distance</th>\n",
       "      <th>absolute_magnitude</th>\n",
       "    </tr>\n",
       "  </thead>\n",
       "  <tbody>\n",
       "    <tr>\n",
       "      <th>14173</th>\n",
       "      <td>0.146068</td>\n",
       "      <td>0.326618</td>\n",
       "      <td>84540.352752</td>\n",
       "      <td>7.175191e+07</td>\n",
       "      <td>21.30</td>\n",
       "    </tr>\n",
       "    <tr>\n",
       "      <th>80836</th>\n",
       "      <td>0.016771</td>\n",
       "      <td>0.037501</td>\n",
       "      <td>28596.021848</td>\n",
       "      <td>6.169616e+06</td>\n",
       "      <td>26.00</td>\n",
       "    </tr>\n",
       "    <tr>\n",
       "      <th>4516</th>\n",
       "      <td>0.010341</td>\n",
       "      <td>0.023123</td>\n",
       "      <td>36173.166030</td>\n",
       "      <td>2.634700e+07</td>\n",
       "      <td>27.05</td>\n",
       "    </tr>\n",
       "    <tr>\n",
       "      <th>66317</th>\n",
       "      <td>0.013949</td>\n",
       "      <td>0.031192</td>\n",
       "      <td>30960.456022</td>\n",
       "      <td>1.819380e+06</td>\n",
       "      <td>26.40</td>\n",
       "    </tr>\n",
       "    <tr>\n",
       "      <th>41083</th>\n",
       "      <td>0.076658</td>\n",
       "      <td>0.171412</td>\n",
       "      <td>59035.961906</td>\n",
       "      <td>6.155086e+07</td>\n",
       "      <td>22.70</td>\n",
       "    </tr>\n",
       "    <tr>\n",
       "      <th>...</th>\n",
       "      <td>...</td>\n",
       "      <td>...</td>\n",
       "      <td>...</td>\n",
       "      <td>...</td>\n",
       "      <td>...</td>\n",
       "    </tr>\n",
       "    <tr>\n",
       "      <th>64243</th>\n",
       "      <td>0.116026</td>\n",
       "      <td>0.259442</td>\n",
       "      <td>29172.261568</td>\n",
       "      <td>5.897452e+07</td>\n",
       "      <td>21.80</td>\n",
       "    </tr>\n",
       "    <tr>\n",
       "      <th>27087</th>\n",
       "      <td>0.029144</td>\n",
       "      <td>0.065169</td>\n",
       "      <td>27341.360208</td>\n",
       "      <td>2.612556e+07</td>\n",
       "      <td>24.80</td>\n",
       "    </tr>\n",
       "    <tr>\n",
       "      <th>78053</th>\n",
       "      <td>0.019256</td>\n",
       "      <td>0.043057</td>\n",
       "      <td>22331.507742</td>\n",
       "      <td>1.252037e+07</td>\n",
       "      <td>25.70</td>\n",
       "    </tr>\n",
       "    <tr>\n",
       "      <th>83092</th>\n",
       "      <td>0.011080</td>\n",
       "      <td>0.024777</td>\n",
       "      <td>14873.903989</td>\n",
       "      <td>4.806941e+07</td>\n",
       "      <td>26.90</td>\n",
       "    </tr>\n",
       "    <tr>\n",
       "      <th>44280</th>\n",
       "      <td>0.121494</td>\n",
       "      <td>0.271669</td>\n",
       "      <td>42429.870531</td>\n",
       "      <td>2.963497e+07</td>\n",
       "      <td>21.70</td>\n",
       "    </tr>\n",
       "  </tbody>\n",
       "</table>\n",
       "<p>63585 rows × 5 columns</p>\n",
       "</div>"
      ],
      "text/plain": [
       "       est_diameter_min  est_diameter_max  relative_velocity  miss_distance  \\\n",
       "14173          0.146068          0.326618       84540.352752   7.175191e+07   \n",
       "80836          0.016771          0.037501       28596.021848   6.169616e+06   \n",
       "4516           0.010341          0.023123       36173.166030   2.634700e+07   \n",
       "66317          0.013949          0.031192       30960.456022   1.819380e+06   \n",
       "41083          0.076658          0.171412       59035.961906   6.155086e+07   \n",
       "...                 ...               ...                ...            ...   \n",
       "64243          0.116026          0.259442       29172.261568   5.897452e+07   \n",
       "27087          0.029144          0.065169       27341.360208   2.612556e+07   \n",
       "78053          0.019256          0.043057       22331.507742   1.252037e+07   \n",
       "83092          0.011080          0.024777       14873.903989   4.806941e+07   \n",
       "44280          0.121494          0.271669       42429.870531   2.963497e+07   \n",
       "\n",
       "       absolute_magnitude  \n",
       "14173               21.30  \n",
       "80836               26.00  \n",
       "4516                27.05  \n",
       "66317               26.40  \n",
       "41083               22.70  \n",
       "...                   ...  \n",
       "64243               21.80  \n",
       "27087               24.80  \n",
       "78053               25.70  \n",
       "83092               26.90  \n",
       "44280               21.70  \n",
       "\n",
       "[63585 rows x 5 columns]"
      ]
     },
     "execution_count": 12,
     "metadata": {},
     "output_type": "execute_result"
    }
   ],
   "source": [
    "\n",
    "X_train"
   ]
  },
  {
   "cell_type": "markdown",
   "id": "31e6339e",
   "metadata": {
    "_cell_guid": "fe17b7d3-f516-4b60-8aa7-344a3a699790",
    "_uuid": "807cff5a-16b9-482a-918a-0cca49257276",
    "papermill": {
     "duration": 0.009811,
     "end_time": "2022-09-02T18:07:31.373232",
     "exception": false,
     "start_time": "2022-09-02T18:07:31.363421",
     "status": "completed"
    },
    "tags": []
   },
   "source": [
    "****"
   ]
  },
  {
   "cell_type": "markdown",
   "id": "8f57ee14",
   "metadata": {
    "_cell_guid": "49144168-cee3-4eeb-bfb2-eccf46b51188",
    "_uuid": "e57eb518-8554-41f0-8e4d-ed999f505796",
    "papermill": {
     "duration": 0.009812,
     "end_time": "2022-09-02T18:07:31.393102",
     "exception": false,
     "start_time": "2022-09-02T18:07:31.383290",
     "status": "completed"
    },
    "tags": []
   },
   "source": [
    "**PLOTS**"
   ]
  },
  {
   "cell_type": "code",
   "execution_count": 13,
   "id": "2e0f735f",
   "metadata": {
    "_cell_guid": "97447656-0504-40d6-82b9-593da32fba1a",
    "_uuid": "9f9e2a1f-fca4-4675-a17a-48a202de1f7f",
    "collapsed": false,
    "execution": {
     "iopub.execute_input": "2022-09-02T18:07:31.415533Z",
     "iopub.status.busy": "2022-09-02T18:07:31.414728Z",
     "iopub.status.idle": "2022-09-02T18:07:31.974583Z",
     "shell.execute_reply": "2022-09-02T18:07:31.973380Z"
    },
    "jupyter": {
     "outputs_hidden": false
    },
    "papermill": {
     "duration": 0.57395,
     "end_time": "2022-09-02T18:07:31.977203",
     "exception": false,
     "start_time": "2022-09-02T18:07:31.403253",
     "status": "completed"
    },
    "tags": []
   },
   "outputs": [
    {
     "data": {
      "text/plain": [
       "<AxesSubplot:>"
      ]
     },
     "execution_count": 13,
     "metadata": {},
     "output_type": "execute_result"
    },
    {
     "data": {
      "image/png": "[encoded data removed]",
      "text/plain": [
       "<Figure size 432x288 with 2 Axes>"
      ]
     },
     "metadata": {
      "needs_background": "light"
     },
     "output_type": "display_data"
    }
   ],
   "source": [
    "sns.heatmap(train.corr(),annot=True)"
   ]
  },
  {
   "cell_type": "code",
   "execution_count": 14,
   "id": "3f9d5dbb",
   "metadata": {
    "_cell_guid": "c0b5a785-62b6-4274-a714-a5a8e19e9545",
    "_uuid": "a16a04f1-17bb-4ec2-8eb4-24b3d3fd8ffc",
    "collapsed": false,
    "execution": {
     "iopub.execute_input": "2022-09-02T18:07:32.001062Z",
     "iopub.status.busy": "2022-09-02T18:07:32.000352Z",
     "iopub.status.idle": "2022-09-02T18:07:32.749296Z",
     "shell.execute_reply": "2022-09-02T18:07:32.748221Z"
    },
    "jupyter": {
     "outputs_hidden": false
    },
    "papermill": {
     "duration": 0.76368,
     "end_time": "2022-09-02T18:07:32.751681",
     "exception": false,
     "start_time": "2022-09-02T18:07:31.988001",
     "status": "completed"
    },
    "tags": []
   },
   "outputs": [
    {
     "data": {
      "text/plain": [
       "<AxesSubplot:>"
      ]
     },
     "execution_count": 14,
     "metadata": {},
     "output_type": "execute_result"
    },
    {
     "data": {
      "image/png": "[encoded data removed]",
      "text/plain": [
       "<Figure size 432x288 with 1 Axes>"
      ]
     },
     "metadata": {
      "needs_background": "light"
     },
     "output_type": "display_data"
    }
   ],
   "source": [
    "plot=['est_diameter_min', 'est_diameter_max','relative_velocity', 'miss_distance','absolute_magnitude', 'hazardous']\n",
    "train.boxplot(plot)"
   ]
  },
  {
   "cell_type": "markdown",
   "id": "ac47a5e1",
   "metadata": {
    "_cell_guid": "4817420c-7bc7-4376-ad66-c55122c8f274",
    "_uuid": "65b1b222-d0d6-4c2e-838a-ce3036d2b2be",
    "papermill": {
     "duration": 0.010838,
     "end_time": "2022-09-02T18:07:32.773620",
     "exception": false,
     "start_time": "2022-09-02T18:07:32.762782",
     "status": "completed"
    },
    "tags": []
   },
   "source": [
    "**IMPLEMENTATION OF KERNELS**"
   ]
  },
  {
   "cell_type": "code",
   "execution_count": 15,
   "id": "f8998572",
   "metadata": {
    "_cell_guid": "c0e915e9-604d-43e4-bf40-7821964884b7",
    "_uuid": "52cbd863-c2fa-4c0f-98f0-d8f15bb96ce1",
    "collapsed": false,
    "execution": {
     "iopub.execute_input": "2022-09-02T18:07:32.798451Z",
     "iopub.status.busy": "2022-09-02T18:07:32.797574Z",
     "iopub.status.idle": "2022-09-02T18:08:25.012970Z",
     "shell.execute_reply": "2022-09-02T18:08:25.011743Z"
    },
    "jupyter": {
     "outputs_hidden": false
    },
    "papermill": {
     "duration": 52.24239,
     "end_time": "2022-09-02T18:08:25.027292",
     "exception": false,
     "start_time": "2022-09-02T18:07:32.784902",
     "status": "completed"
    },
    "tags": []
   },
   "outputs": [
    {
     "name": "stdout",
     "output_type": "stream",
     "text": [
      "Accuracy 0.902388903159517\n",
      "Precision 0.8143057325454363\n",
      "f1: 0.856087555171316\n"
     ]
    },
    {
     "name": "stderr",
     "output_type": "stream",
     "text": [
      "/opt/conda/lib/python3.7/site-packages/sklearn/metrics/_classification.py:1318: UndefinedMetricWarning: Precision is ill-defined and being set to 0.0 in labels with no predicted samples. Use `zero_division` parameter to control this behavior.\n",
      "  _warn_prf(average, modifier, msg_start, len(result))\n"
     ]
    }
   ],
   "source": [
    "clf=SVC(kernel=\"rbf\")\n",
    "clf.fit(X_train,y_train)\n",
    "y_pred=clf.predict(X_test)\n",
    "accuracy_1=accuracy_score(y_test,y_pred)\n",
    "precision_1=precision_score(y_test,y_pred, average=\"weighted\")\n",
    "f1score_1=f1_score(y_test,y_pred, average=\"weighted\")\n",
    "print(\"Accuracy\",accuracy_1)\n",
    "print(\"Precision\",precision_1)\n",
    "print(\"f1:\",f1score_1)"
   ]
  },
  {
   "cell_type": "code",
   "execution_count": 16,
   "id": "c85af37c",
   "metadata": {
    "execution": {
     "iopub.execute_input": "2022-09-02T18:08:25.052257Z",
     "iopub.status.busy": "2022-09-02T18:08:25.051461Z",
     "iopub.status.idle": "2022-09-02T18:09:39.442324Z",
     "shell.execute_reply": "2022-09-02T18:09:39.441130Z"
    },
    "papermill": {
     "duration": 74.419443,
     "end_time": "2022-09-02T18:09:39.457824",
     "exception": false,
     "start_time": "2022-09-02T18:08:25.038381",
     "status": "completed"
    },
    "tags": []
   },
   "outputs": [
    {
     "name": "stdout",
     "output_type": "stream",
     "text": [
      "Accuracy 0.902388903159517\n",
      "Precision 0.8143057325454363\n",
      "f1: 0.856087555171316\n"
     ]
    },
    {
     "name": "stderr",
     "output_type": "stream",
     "text": [
      "/opt/conda/lib/python3.7/site-packages/sklearn/metrics/_classification.py:1318: UndefinedMetricWarning: Precision is ill-defined and being set to 0.0 in labels with no predicted samples. Use `zero_division` parameter to control this behavior.\n",
      "  _warn_prf(average, modifier, msg_start, len(result))\n"
     ]
    }
   ],
   "source": [
    "clf=SVC(kernel=\"poly\")\n",
    "clf.fit(X_train,y_train)\n",
    "y_pred=clf.predict(X_test)\n",
    "accuracy_2=accuracy_score(y_test,y_pred)\n",
    "precision_2=precision_score(y_test,y_pred, average=\"weighted\")\n",
    "f1score_2=f1_score(y_test,y_pred, average=\"weighted\")\n",
    "print(\"Accuracy\",accuracy_2)\n",
    "print(\"Precision\",precision_2)\n",
    "print(\"f1:\",f1score_2)"
   ]
  },
  {
   "cell_type": "code",
   "execution_count": 17,
   "id": "b9032d99",
   "metadata": {
    "_cell_guid": "aaca04ed-e098-480f-aac7-3da385d05ebd",
    "_uuid": "8fee500d-2b67-43f4-a3f9-f2a7d00c019e",
    "collapsed": false,
    "execution": {
     "iopub.execute_input": "2022-09-02T18:09:39.483521Z",
     "iopub.status.busy": "2022-09-02T18:09:39.482689Z",
     "iopub.status.idle": "2022-09-02T18:11:12.416088Z",
     "shell.execute_reply": "2022-09-02T18:11:12.415193Z"
    },
    "jupyter": {
     "outputs_hidden": false
    },
    "papermill": {
     "duration": 92.959258,
     "end_time": "2022-09-02T18:11:12.428934",
     "exception": false,
     "start_time": "2022-09-02T18:09:39.469676",
     "status": "completed"
    },
    "tags": []
   },
   "outputs": [
    {
     "name": "stdout",
     "output_type": "stream",
     "text": [
      "Accuracy 0.8279696157939158\n",
      "Precision 0.8259273921001897\n",
      "f1: 0.8269449966967778\n"
     ]
    }
   ],
   "source": [
    "clf=SVC(kernel=\"sigmoid\")\n",
    "clf.fit(X_train,y_train)\n",
    "y_pred=clf.predict(X_test)\n",
    "accuracy_3=accuracy_score(y_test,y_pred)\n",
    "precision_3=precision_score(y_test,y_pred, average=\"weighted\")\n",
    "f1score_3=f1_score(y_test,y_pred, average=\"weighted\")\n",
    "print(\"Accuracy\",accuracy_3)\n",
    "print(\"Precision\",precision_3)\n",
    "print(\"f1:\",f1score_3)"
   ]
  },
  {
   "cell_type": "code",
   "execution_count": 18,
   "id": "12b6099e",
   "metadata": {
    "execution": {
     "iopub.execute_input": "2022-09-02T18:11:12.453662Z",
     "iopub.status.busy": "2022-09-02T18:11:12.453060Z",
     "iopub.status.idle": "2022-09-02T18:11:12.457803Z",
     "shell.execute_reply": "2022-09-02T18:11:12.457008Z"
    },
    "papermill": {
     "duration": 0.019582,
     "end_time": "2022-09-02T18:11:12.459913",
     "exception": false,
     "start_time": "2022-09-02T18:11:12.440331",
     "status": "completed"
    },
    "tags": []
   },
   "outputs": [],
   "source": [
    "accuracy_scores=[accuracy_1,accuracy_2,accuracy_3]\n",
    "precision_scores=[precision_1,precision_2,precision_3]\n",
    "f1scores=[f1score_1,f1score_2,f1score_3]\n",
    "kernels=['Rbf','polynomial','Sigmoid']"
   ]
  },
  {
   "cell_type": "code",
   "execution_count": 19,
   "id": "ce19b84d",
   "metadata": {
    "execution": {
     "iopub.execute_input": "2022-09-02T18:11:12.484660Z",
     "iopub.status.busy": "2022-09-02T18:11:12.483927Z",
     "iopub.status.idle": "2022-09-02T18:11:12.637399Z",
     "shell.execute_reply": "2022-09-02T18:11:12.636228Z"
    },
    "papermill": {
     "duration": 0.169181,
     "end_time": "2022-09-02T18:11:12.640440",
     "exception": false,
     "start_time": "2022-09-02T18:11:12.471259",
     "status": "completed"
    },
    "tags": []
   },
   "outputs": [
    {
     "data": {
      "text/plain": [
       "<AxesSubplot:>"
      ]
     },
     "execution_count": 19,
     "metadata": {},
     "output_type": "execute_result"
    },
    {
     "data": {
      "image/png": "[encoded data removed]",
      "text/plain": [
       "<Figure size 432x288 with 1 Axes>"
      ]
     },
     "metadata": {
      "needs_background": "light"
     },
     "output_type": "display_data"
    }
   ],
   "source": [
    "sns.barplot(x=kernels, y=accuracy_scores)"
   ]
  },
  {
   "cell_type": "code",
   "execution_count": 20,
   "id": "0eaba70e",
   "metadata": {
    "execution": {
     "iopub.execute_input": "2022-09-02T18:11:12.667305Z",
     "iopub.status.busy": "2022-09-02T18:11:12.666622Z",
     "iopub.status.idle": "2022-09-02T18:11:12.851754Z",
     "shell.execute_reply": "2022-09-02T18:11:12.850666Z"
    },
    "papermill": {
     "duration": 0.201017,
     "end_time": "2022-09-02T18:11:12.854647",
     "exception": false,
     "start_time": "2022-09-02T18:11:12.653630",
     "status": "completed"
    },
    "tags": []
   },
   "outputs": [
    {
     "data": {
      "text/plain": [
       "<AxesSubplot:>"
      ]
     },
     "execution_count": 20,
     "metadata": {},
     "output_type": "execute_result"
    },
    {
     "data": {
      "image/png": "[encoded data removed]",
      "text/plain": [
       "<Figure size 432x288 with 1 Axes>"
      ]
     },
     "metadata": {
      "needs_background": "light"
     },
     "output_type": "display_data"
    }
   ],
   "source": [
    "sns.barplot(x=kernels, y=precision_scores)"
   ]
  },
  {
   "cell_type": "code",
   "execution_count": 21,
   "id": "2bb199ce",
   "metadata": {
    "execution": {
     "iopub.execute_input": "2022-09-02T18:11:12.880859Z",
     "iopub.status.busy": "2022-09-02T18:11:12.880088Z",
     "iopub.status.idle": "2022-09-02T18:11:13.041539Z",
     "shell.execute_reply": "2022-09-02T18:11:13.040577Z"
    },
    "papermill": {
     "duration": 0.177047,
     "end_time": "2022-09-02T18:11:13.043795",
     "exception": false,
     "start_time": "2022-09-02T18:11:12.866748",
     "status": "completed"
    },
    "tags": []
   },
   "outputs": [
    {
     "data": {
      "text/plain": [
       "{'whiskers': [<matplotlib.lines.Line2D at 0x7fb2a7ef8390>,\n",
       "  <matplotlib.lines.Line2D at 0x7fb2a7eef050>],\n",
       " 'caps': [<matplotlib.lines.Line2D at 0x7fb2a7eef350>,\n",
       "  <matplotlib.lines.Line2D at 0x7fb2a7eef690>],\n",
       " 'boxes': [<matplotlib.lines.Line2D at 0x7fb2a7ef8b10>],\n",
       " 'medians': [<matplotlib.lines.Line2D at 0x7fb2a7eefa10>],\n",
       " 'fliers': [<matplotlib.lines.Line2D at 0x7fb2a7eefd50>],\n",
       " 'means': []}"
      ]
     },
     "execution_count": 21,
     "metadata": {},
     "output_type": "execute_result"
    },
    {
     "data": {
      "image/png": "[encoded data removed]",
      "text/plain": [
       "<Figure size 432x288 with 1 Axes>"
      ]
     },
     "metadata": {
      "needs_background": "light"
     },
     "output_type": "display_data"
    }
   ],
   "source": [
    "plt.boxplot(accuracy_scores)"
   ]
  },
  {
   "cell_type": "code",
   "execution_count": 22,
   "id": "8c1ea401",
   "metadata": {
    "execution": {
     "iopub.execute_input": "2022-09-02T18:11:13.071099Z",
     "iopub.status.busy": "2022-09-02T18:11:13.070102Z",
     "iopub.status.idle": "2022-09-02T18:11:13.245141Z",
     "shell.execute_reply": "2022-09-02T18:11:13.244005Z"
    },
    "papermill": {
     "duration": 0.191078,
     "end_time": "2022-09-02T18:11:13.247433",
     "exception": false,
     "start_time": "2022-09-02T18:11:13.056355",
     "status": "completed"
    },
    "tags": []
   },
   "outputs": [
    {
     "data": {
      "text/plain": [
       "<AxesSubplot:>"
      ]
     },
     "execution_count": 22,
     "metadata": {},
     "output_type": "execute_result"
    },
    {
     "data": {
      "image/png": "[encoded data removed]",
      "text/plain": [
       "<Figure size 432x288 with 1 Axes>"
      ]
     },
     "metadata": {
      "needs_background": "light"
     },
     "output_type": "display_data"
    }
   ],
   "source": [
    "sns.barplot(x=kernels, y=f1scores)"
   ]
  },
  {
   "cell_type": "code",
   "execution_count": 23,
   "id": "5fdf5dd8",
   "metadata": {
    "execution": {
     "iopub.execute_input": "2022-09-02T18:11:13.274329Z",
     "iopub.status.busy": "2022-09-02T18:11:13.273916Z",
     "iopub.status.idle": "2022-09-02T18:11:13.367126Z",
     "shell.execute_reply": "2022-09-02T18:11:13.365897Z"
    },
    "papermill": {
     "duration": 0.109432,
     "end_time": "2022-09-02T18:11:13.369540",
     "exception": false,
     "start_time": "2022-09-02T18:11:13.260108",
     "status": "completed"
    },
    "tags": []
   },
   "outputs": [
    {
     "data": {
      "text/plain": [
       "([<matplotlib.patches.Wedge at 0x7fb2a7e1e490>,\n",
       "  <matplotlib.patches.Wedge at 0x7fb2a7e1e950>,\n",
       "  <matplotlib.patches.Wedge at 0x7fb2a7e1edd0>],\n",
       " [Text(0.5385108335917906, 0.9591694751733266, ''),\n",
       "  Text(-1.0992850083371033, -0.03965438746588986, ''),\n",
       "  Text(0.5727382431707005, -0.9391330602261533, '')])"
      ]
     },
     "execution_count": 23,
     "metadata": {},
     "output_type": "execute_result"
    },
    {
     "data": {
      "image/png": "[encoded data removed]",
      "text/plain": [
       "<Figure size 432x288 with 1 Axes>"
      ]
     },
     "metadata": {},
     "output_type": "display_data"
    }
   ],
   "source": [
    "plt.pie(f1scores)"
   ]
  },
  {
   "cell_type": "code",
   "execution_count": 24,
   "id": "807015a0",
   "metadata": {
    "execution": {
     "iopub.execute_input": "2022-09-02T18:11:13.398568Z",
     "iopub.status.busy": "2022-09-02T18:11:13.397989Z",
     "iopub.status.idle": "2022-09-02T18:11:13.624679Z",
     "shell.execute_reply": "2022-09-02T18:11:13.623755Z"
    },
    "papermill": {
     "duration": 0.243701,
     "end_time": "2022-09-02T18:11:13.626971",
     "exception": false,
     "start_time": "2022-09-02T18:11:13.383270",
     "status": "completed"
    },
    "tags": []
   },
   "outputs": [
    {
     "data": {
      "text/plain": [
       "(array([1., 0., 0., 0., 0., 0., 0., 0., 0., 2.]),\n",
       " array([0.826945  , 0.82985925, 0.83277351, 0.83568776, 0.83860202,\n",
       "        0.84151628, 0.84443053, 0.84734479, 0.85025904, 0.8531733 ,\n",
       "        0.85608756]),\n",
       " <BarContainer object of 10 artists>)"
      ]
     },
     "execution_count": 24,
     "metadata": {},
     "output_type": "execute_result"
    },
    {
     "data": {
      "image/png": "[encoded data removed]",
      "text/plain": [
       "<Figure size 432x288 with 1 Axes>"
      ]
     },
     "metadata": {
      "needs_background": "light"
     },
     "output_type": "display_data"
    }
   ],
   "source": [
    "plt.hist(f1scores)"
   ]
  },
  {
   "cell_type": "code",
   "execution_count": null,
   "id": "4d558b1f",
   "metadata": {
    "_cell_guid": "ee328d35-32bb-4565-98c6-4f379fd0f0f7",
    "_uuid": "62d26131-3991-447a-a3a1-927caa56a2b7",
    "collapsed": false,
    "jupyter": {
     "outputs_hidden": false
    },
    "papermill": {
     "duration": 0.012691,
     "end_time": "2022-09-02T18:11:13.652892",
     "exception": false,
     "start_time": "2022-09-02T18:11:13.640201",
     "status": "completed"
    },
    "tags": []
   },
   "outputs": [],
   "source": []
  }
 ],
 "metadata": {
  "kernelspec": {
   "display_name": "Python 3",
   "language": "python",
   "name": "python3"
  },
  "language_info": {
   "codemirror_mode": {
    "name": "ipython",
    "version": 3
   },
   "file_extension": ".py",
   "mimetype": "text/x-python",
   "name": "python",
   "nbconvert_exporter": "python",
   "pygments_lexer": "ipython3",
   "version": "3.7.12"
  },
  "papermill": {
   "default_parameters": {},
   "duration": 234.282039,
   "end_time": "2022-09-02T18:11:14.387445",
   "environment_variables": {},
   "exception": null,
   "input_path": "__notebook__.ipynb",
   "output_path": "__notebook__.ipynb",
   "parameters": {},
   "start_time": "2022-09-02T18:07:20.105406",
   "version": "2.3.4"
  }
 },
 "nbformat": 4,
 "nbformat_minor": 5
}
