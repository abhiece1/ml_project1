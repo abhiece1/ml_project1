{
 "cells": [
  {
   "cell_type": "code",
   "execution_count": 1,
   "id": "43dc51e9",
   "metadata": {
    "_cell_guid": "8a9aacbc-0550-4955-b3f8-abb50035da43",
    "_uuid": "63ce78b9-6c0c-4af5-b4cf-0a4efa1360ff",
    "collapsed": false,
    "execution": {
     "iopub.execute_input": "2022-09-02T18:37:46.761675Z",
     "iopub.status.busy": "2022-09-02T18:37:46.760586Z",
     "iopub.status.idle": "2022-09-02T18:37:48.073741Z",
     "shell.execute_reply": "2022-09-02T18:37:48.072476Z"
    },
    "jupyter": {
     "outputs_hidden": false
    },
    "papermill": {
     "duration": 1.326784,
     "end_time": "2022-09-02T18:37:48.076956",
     "exception": false,
     "start_time": "2022-09-02T18:37:46.750172",
     "status": "completed"
    },
    "tags": []
   },
   "outputs": [
    {
     "name": "stdout",
     "output_type": "stream",
     "text": [
      "/kaggle/input/nasa-nearest-earth-objects/neo_v2.csv\n",
      "/kaggle/input/nasa-nearest-earth-objects/neo.csv\n"
     ]
    }
   ],
   "source": [
    "# This Python 3 environment comes with many helpful analytics libraries installed\n",
    "# It is defined by the kaggle/python Docker image: https://github.com/kaggle/docker-python\n",
    "# For example, here's several helpful packages to load\n",
    "\n",
    "\n",
    "import pandas as pd\n",
    "import numpy as np \n",
    "from sklearn.model_selection import train_test_split\n",
    "from sklearn.svm import SVC\n",
    "import seaborn as sns\n",
    "import matplotlib.pyplot as plt\n",
    "from sklearn.metrics import accuracy_score,precision_score,f1_score\n",
    "\n",
    "# Input data files are available in the read-only \"../input/\" directory\n",
    "# For example, running this (by clicking run or pressing Shift+Enter) will list all files under the input directory\n",
    "\n",
    "import os\n",
    "for dirname, _, filenames in os.walk('/kaggle/input'):\n",
    "    for filename in filenames:\n",
    "        print(os.path.join(dirname, filename))\n",
    "\n",
    "# You can write up to 20GB to the current directory (/kaggle/working/) that gets preserved as output when you create a version using \"Save & Run All\" \n",
    "# You can also write temporary files to /kaggle/temp/, but they won't be saved outside of the current session"
   ]
  },
  {
   "cell_type": "code",
   "execution_count": 2,
   "id": "4d708359",
   "metadata": {
    "_cell_guid": "9bfb4e3f-1485-4dea-808d-f8d989c15b39",
    "_uuid": "036db46d-f6ad-46fc-b0fc-5a54cc2e3ad9",
    "collapsed": false,
    "execution": {
     "iopub.execute_input": "2022-09-02T18:37:48.098689Z",
     "iopub.status.busy": "2022-09-02T18:37:48.097828Z",
     "iopub.status.idle": "2022-09-02T18:37:48.419136Z",
     "shell.execute_reply": "2022-09-02T18:37:48.418072Z"
    },
    "jupyter": {
     "outputs_hidden": false
    },
    "papermill": {
     "duration": 0.334274,
     "end_time": "2022-09-02T18:37:48.421547",
     "exception": false,
     "start_time": "2022-09-02T18:37:48.087273",
     "status": "completed"
    },
    "tags": []
   },
   "outputs": [
    {
     "data": {
      "text/html": [
       "<div>\n",
       "<style scoped>\n",
       "    .dataframe tbody tr th:only-of-type {\n",
       "        vertical-align: middle;\n",
       "    }\n",
       "\n",
       "    .dataframe tbody tr th {\n",
       "        vertical-align: top;\n",
       "    }\n",
       "\n",
       "    .dataframe thead th {\n",
       "        text-align: right;\n",
       "    }\n",
       "</style>\n",
       "<table border=\"1\" class=\"dataframe\">\n",
       "  <thead>\n",
       "    <tr style=\"text-align: right;\">\n",
       "      <th></th>\n",
       "      <th>id</th>\n",
       "      <th>name</th>\n",
       "      <th>est_diameter_min</th>\n",
       "      <th>est_diameter_max</th>\n",
       "      <th>relative_velocity</th>\n",
       "      <th>miss_distance</th>\n",
       "      <th>orbiting_body</th>\n",
       "      <th>sentry_object</th>\n",
       "      <th>absolute_magnitude</th>\n",
       "      <th>hazardous</th>\n",
       "    </tr>\n",
       "  </thead>\n",
       "  <tbody>\n",
       "    <tr>\n",
       "      <th>0</th>\n",
       "      <td>2162635</td>\n",
       "      <td>162635 (2000 SS164)</td>\n",
       "      <td>1.198271</td>\n",
       "      <td>2.679415</td>\n",
       "      <td>13569.249224</td>\n",
       "      <td>5.483974e+07</td>\n",
       "      <td>Earth</td>\n",
       "      <td>False</td>\n",
       "      <td>16.73</td>\n",
       "      <td>False</td>\n",
       "    </tr>\n",
       "    <tr>\n",
       "      <th>1</th>\n",
       "      <td>2277475</td>\n",
       "      <td>277475 (2005 WK4)</td>\n",
       "      <td>0.265800</td>\n",
       "      <td>0.594347</td>\n",
       "      <td>73588.726663</td>\n",
       "      <td>6.143813e+07</td>\n",
       "      <td>Earth</td>\n",
       "      <td>False</td>\n",
       "      <td>20.00</td>\n",
       "      <td>True</td>\n",
       "    </tr>\n",
       "    <tr>\n",
       "      <th>2</th>\n",
       "      <td>2512244</td>\n",
       "      <td>512244 (2015 YE18)</td>\n",
       "      <td>0.722030</td>\n",
       "      <td>1.614507</td>\n",
       "      <td>114258.692129</td>\n",
       "      <td>4.979872e+07</td>\n",
       "      <td>Earth</td>\n",
       "      <td>False</td>\n",
       "      <td>17.83</td>\n",
       "      <td>False</td>\n",
       "    </tr>\n",
       "    <tr>\n",
       "      <th>3</th>\n",
       "      <td>3596030</td>\n",
       "      <td>(2012 BV13)</td>\n",
       "      <td>0.096506</td>\n",
       "      <td>0.215794</td>\n",
       "      <td>24764.303138</td>\n",
       "      <td>2.543497e+07</td>\n",
       "      <td>Earth</td>\n",
       "      <td>False</td>\n",
       "      <td>22.20</td>\n",
       "      <td>False</td>\n",
       "    </tr>\n",
       "    <tr>\n",
       "      <th>4</th>\n",
       "      <td>3667127</td>\n",
       "      <td>(2014 GE35)</td>\n",
       "      <td>0.255009</td>\n",
       "      <td>0.570217</td>\n",
       "      <td>42737.733765</td>\n",
       "      <td>4.627557e+07</td>\n",
       "      <td>Earth</td>\n",
       "      <td>False</td>\n",
       "      <td>20.09</td>\n",
       "      <td>True</td>\n",
       "    </tr>\n",
       "    <tr>\n",
       "      <th>...</th>\n",
       "      <td>...</td>\n",
       "      <td>...</td>\n",
       "      <td>...</td>\n",
       "      <td>...</td>\n",
       "      <td>...</td>\n",
       "      <td>...</td>\n",
       "      <td>...</td>\n",
       "      <td>...</td>\n",
       "      <td>...</td>\n",
       "      <td>...</td>\n",
       "    </tr>\n",
       "    <tr>\n",
       "      <th>90831</th>\n",
       "      <td>3763337</td>\n",
       "      <td>(2016 VX1)</td>\n",
       "      <td>0.026580</td>\n",
       "      <td>0.059435</td>\n",
       "      <td>52078.886692</td>\n",
       "      <td>1.230039e+07</td>\n",
       "      <td>Earth</td>\n",
       "      <td>False</td>\n",
       "      <td>25.00</td>\n",
       "      <td>False</td>\n",
       "    </tr>\n",
       "    <tr>\n",
       "      <th>90832</th>\n",
       "      <td>3837603</td>\n",
       "      <td>(2019 AD3)</td>\n",
       "      <td>0.016771</td>\n",
       "      <td>0.037501</td>\n",
       "      <td>46114.605073</td>\n",
       "      <td>5.432121e+07</td>\n",
       "      <td>Earth</td>\n",
       "      <td>False</td>\n",
       "      <td>26.00</td>\n",
       "      <td>False</td>\n",
       "    </tr>\n",
       "    <tr>\n",
       "      <th>90833</th>\n",
       "      <td>54017201</td>\n",
       "      <td>(2020 JP3)</td>\n",
       "      <td>0.031956</td>\n",
       "      <td>0.071456</td>\n",
       "      <td>7566.807732</td>\n",
       "      <td>2.840077e+07</td>\n",
       "      <td>Earth</td>\n",
       "      <td>False</td>\n",
       "      <td>24.60</td>\n",
       "      <td>False</td>\n",
       "    </tr>\n",
       "    <tr>\n",
       "      <th>90834</th>\n",
       "      <td>54115824</td>\n",
       "      <td>(2021 CN5)</td>\n",
       "      <td>0.007321</td>\n",
       "      <td>0.016370</td>\n",
       "      <td>69199.154484</td>\n",
       "      <td>6.869206e+07</td>\n",
       "      <td>Earth</td>\n",
       "      <td>False</td>\n",
       "      <td>27.80</td>\n",
       "      <td>False</td>\n",
       "    </tr>\n",
       "    <tr>\n",
       "      <th>90835</th>\n",
       "      <td>54205447</td>\n",
       "      <td>(2021 TW7)</td>\n",
       "      <td>0.039862</td>\n",
       "      <td>0.089133</td>\n",
       "      <td>27024.455553</td>\n",
       "      <td>5.977213e+07</td>\n",
       "      <td>Earth</td>\n",
       "      <td>False</td>\n",
       "      <td>24.12</td>\n",
       "      <td>False</td>\n",
       "    </tr>\n",
       "  </tbody>\n",
       "</table>\n",
       "<p>90836 rows × 10 columns</p>\n",
       "</div>"
      ],
      "text/plain": [
       "             id                 name  est_diameter_min  est_diameter_max  \\\n",
       "0       2162635  162635 (2000 SS164)          1.198271          2.679415   \n",
       "1       2277475    277475 (2005 WK4)          0.265800          0.594347   \n",
       "2       2512244   512244 (2015 YE18)          0.722030          1.614507   \n",
       "3       3596030          (2012 BV13)          0.096506          0.215794   \n",
       "4       3667127          (2014 GE35)          0.255009          0.570217   \n",
       "...         ...                  ...               ...               ...   \n",
       "90831   3763337           (2016 VX1)          0.026580          0.059435   \n",
       "90832   3837603           (2019 AD3)          0.016771          0.037501   \n",
       "90833  54017201           (2020 JP3)          0.031956          0.071456   \n",
       "90834  54115824           (2021 CN5)          0.007321          0.016370   \n",
       "90835  54205447           (2021 TW7)          0.039862          0.089133   \n",
       "\n",
       "       relative_velocity  miss_distance orbiting_body  sentry_object  \\\n",
       "0           13569.249224   5.483974e+07         Earth          False   \n",
       "1           73588.726663   6.143813e+07         Earth          False   \n",
       "2          114258.692129   4.979872e+07         Earth          False   \n",
       "3           24764.303138   2.543497e+07         Earth          False   \n",
       "4           42737.733765   4.627557e+07         Earth          False   \n",
       "...                  ...            ...           ...            ...   \n",
       "90831       52078.886692   1.230039e+07         Earth          False   \n",
       "90832       46114.605073   5.432121e+07         Earth          False   \n",
       "90833        7566.807732   2.840077e+07         Earth          False   \n",
       "90834       69199.154484   6.869206e+07         Earth          False   \n",
       "90835       27024.455553   5.977213e+07         Earth          False   \n",
       "\n",
       "       absolute_magnitude  hazardous  \n",
       "0                   16.73      False  \n",
       "1                   20.00       True  \n",
       "2                   17.83      False  \n",
       "3                   22.20      False  \n",
       "4                   20.09       True  \n",
       "...                   ...        ...  \n",
       "90831               25.00      False  \n",
       "90832               26.00      False  \n",
       "90833               24.60      False  \n",
       "90834               27.80      False  \n",
       "90835               24.12      False  \n",
       "\n",
       "[90836 rows x 10 columns]"
      ]
     },
     "execution_count": 2,
     "metadata": {},
     "output_type": "execute_result"
    }
   ],
   "source": [
    "train =pd.read_csv(\"../input/nasa-nearest-earth-objects/neo_v2.csv\")\n",
    "train"
   ]
  },
  {
   "cell_type": "code",
   "execution_count": 3,
   "id": "2e576410",
   "metadata": {
    "_cell_guid": "8053095c-eaed-422e-af9a-d3bbc262cae5",
    "_uuid": "88107839-1808-43c9-ae0d-18970e02d0bd",
    "collapsed": false,
    "execution": {
     "iopub.execute_input": "2022-09-02T18:37:48.439113Z",
     "iopub.status.busy": "2022-09-02T18:37:48.438716Z",
     "iopub.status.idle": "2022-09-02T18:37:48.505360Z",
     "shell.execute_reply": "2022-09-02T18:37:48.503665Z"
    },
    "jupyter": {
     "outputs_hidden": false
    },
    "papermill": {
     "duration": 0.078593,
     "end_time": "2022-09-02T18:37:48.508337",
     "exception": false,
     "start_time": "2022-09-02T18:37:48.429744",
     "status": "completed"
    },
    "tags": []
   },
   "outputs": [
    {
     "data": {
      "text/html": [
       "<div>\n",
       "<style scoped>\n",
       "    .dataframe tbody tr th:only-of-type {\n",
       "        vertical-align: middle;\n",
       "    }\n",
       "\n",
       "    .dataframe tbody tr th {\n",
       "        vertical-align: top;\n",
       "    }\n",
       "\n",
       "    .dataframe thead th {\n",
       "        text-align: right;\n",
       "    }\n",
       "</style>\n",
       "<table border=\"1\" class=\"dataframe\">\n",
       "  <thead>\n",
       "    <tr style=\"text-align: right;\">\n",
       "      <th></th>\n",
       "      <th>id</th>\n",
       "      <th>est_diameter_min</th>\n",
       "      <th>est_diameter_max</th>\n",
       "      <th>relative_velocity</th>\n",
       "      <th>miss_distance</th>\n",
       "      <th>absolute_magnitude</th>\n",
       "    </tr>\n",
       "  </thead>\n",
       "  <tbody>\n",
       "    <tr>\n",
       "      <th>count</th>\n",
       "      <td>9.083600e+04</td>\n",
       "      <td>90836.000000</td>\n",
       "      <td>90836.000000</td>\n",
       "      <td>90836.000000</td>\n",
       "      <td>9.083600e+04</td>\n",
       "      <td>90836.000000</td>\n",
       "    </tr>\n",
       "    <tr>\n",
       "      <th>mean</th>\n",
       "      <td>1.438288e+07</td>\n",
       "      <td>0.127432</td>\n",
       "      <td>0.284947</td>\n",
       "      <td>48066.918918</td>\n",
       "      <td>3.706655e+07</td>\n",
       "      <td>23.527103</td>\n",
       "    </tr>\n",
       "    <tr>\n",
       "      <th>std</th>\n",
       "      <td>2.087202e+07</td>\n",
       "      <td>0.298511</td>\n",
       "      <td>0.667491</td>\n",
       "      <td>25293.296961</td>\n",
       "      <td>2.235204e+07</td>\n",
       "      <td>2.894086</td>\n",
       "    </tr>\n",
       "    <tr>\n",
       "      <th>min</th>\n",
       "      <td>2.000433e+06</td>\n",
       "      <td>0.000609</td>\n",
       "      <td>0.001362</td>\n",
       "      <td>203.346433</td>\n",
       "      <td>6.745533e+03</td>\n",
       "      <td>9.230000</td>\n",
       "    </tr>\n",
       "    <tr>\n",
       "      <th>25%</th>\n",
       "      <td>3.448110e+06</td>\n",
       "      <td>0.019256</td>\n",
       "      <td>0.043057</td>\n",
       "      <td>28619.020645</td>\n",
       "      <td>1.721082e+07</td>\n",
       "      <td>21.340000</td>\n",
       "    </tr>\n",
       "    <tr>\n",
       "      <th>50%</th>\n",
       "      <td>3.748362e+06</td>\n",
       "      <td>0.048368</td>\n",
       "      <td>0.108153</td>\n",
       "      <td>44190.117890</td>\n",
       "      <td>3.784658e+07</td>\n",
       "      <td>23.700000</td>\n",
       "    </tr>\n",
       "    <tr>\n",
       "      <th>75%</th>\n",
       "      <td>3.884023e+06</td>\n",
       "      <td>0.143402</td>\n",
       "      <td>0.320656</td>\n",
       "      <td>62923.604633</td>\n",
       "      <td>5.654900e+07</td>\n",
       "      <td>25.700000</td>\n",
       "    </tr>\n",
       "    <tr>\n",
       "      <th>max</th>\n",
       "      <td>5.427591e+07</td>\n",
       "      <td>37.892650</td>\n",
       "      <td>84.730541</td>\n",
       "      <td>236990.128088</td>\n",
       "      <td>7.479865e+07</td>\n",
       "      <td>33.200000</td>\n",
       "    </tr>\n",
       "  </tbody>\n",
       "</table>\n",
       "</div>"
      ],
      "text/plain": [
       "                 id  est_diameter_min  est_diameter_max  relative_velocity  \\\n",
       "count  9.083600e+04      90836.000000      90836.000000       90836.000000   \n",
       "mean   1.438288e+07          0.127432          0.284947       48066.918918   \n",
       "std    2.087202e+07          0.298511          0.667491       25293.296961   \n",
       "min    2.000433e+06          0.000609          0.001362         203.346433   \n",
       "25%    3.448110e+06          0.019256          0.043057       28619.020645   \n",
       "50%    3.748362e+06          0.048368          0.108153       44190.117890   \n",
       "75%    3.884023e+06          0.143402          0.320656       62923.604633   \n",
       "max    5.427591e+07         37.892650         84.730541      236990.128088   \n",
       "\n",
       "       miss_distance  absolute_magnitude  \n",
       "count   9.083600e+04        90836.000000  \n",
       "mean    3.706655e+07           23.527103  \n",
       "std     2.235204e+07            2.894086  \n",
       "min     6.745533e+03            9.230000  \n",
       "25%     1.721082e+07           21.340000  \n",
       "50%     3.784658e+07           23.700000  \n",
       "75%     5.654900e+07           25.700000  \n",
       "max     7.479865e+07           33.200000  "
      ]
     },
     "execution_count": 3,
     "metadata": {},
     "output_type": "execute_result"
    }
   ],
   "source": [
    "train.describe()"
   ]
  },
  {
   "cell_type": "code",
   "execution_count": 4,
   "id": "0bb86cac",
   "metadata": {
    "_cell_guid": "5137b53c-8de9-499b-af48-7f14937ba1e0",
    "_uuid": "16e5923c-b2cf-4929-b92d-e586e27d0b57",
    "collapsed": false,
    "execution": {
     "iopub.execute_input": "2022-09-02T18:37:48.528105Z",
     "iopub.status.busy": "2022-09-02T18:37:48.527698Z",
     "iopub.status.idle": "2022-09-02T18:37:48.560960Z",
     "shell.execute_reply": "2022-09-02T18:37:48.560086Z"
    },
    "jupyter": {
     "outputs_hidden": false
    },
    "papermill": {
     "duration": 0.046165,
     "end_time": "2022-09-02T18:37:48.564030",
     "exception": false,
     "start_time": "2022-09-02T18:37:48.517865",
     "status": "completed"
    },
    "tags": []
   },
   "outputs": [
    {
     "name": "stdout",
     "output_type": "stream",
     "text": [
      "<class 'pandas.core.frame.DataFrame'>\n",
      "RangeIndex: 90836 entries, 0 to 90835\n",
      "Data columns (total 10 columns):\n",
      " #   Column              Non-Null Count  Dtype  \n",
      "---  ------              --------------  -----  \n",
      " 0   id                  90836 non-null  int64  \n",
      " 1   name                90836 non-null  object \n",
      " 2   est_diameter_min    90836 non-null  float64\n",
      " 3   est_diameter_max    90836 non-null  float64\n",
      " 4   relative_velocity   90836 non-null  float64\n",
      " 5   miss_distance       90836 non-null  float64\n",
      " 6   orbiting_body       90836 non-null  object \n",
      " 7   sentry_object       90836 non-null  bool   \n",
      " 8   absolute_magnitude  90836 non-null  float64\n",
      " 9   hazardous           90836 non-null  bool   \n",
      "dtypes: bool(2), float64(5), int64(1), object(2)\n",
      "memory usage: 5.7+ MB\n"
     ]
    }
   ],
   "source": [
    "train.info()"
   ]
  },
  {
   "cell_type": "code",
   "execution_count": 5,
   "id": "1cd8d6bc",
   "metadata": {
    "_cell_guid": "60107785-77ee-4a70-8a26-700f0bf48117",
    "_uuid": "3e7a9fed-9335-49c4-b009-389ad5b5655f",
    "collapsed": false,
    "execution": {
     "iopub.execute_input": "2022-09-02T18:37:48.589401Z",
     "iopub.status.busy": "2022-09-02T18:37:48.588660Z",
     "iopub.status.idle": "2022-09-02T18:37:48.605457Z",
     "shell.execute_reply": "2022-09-02T18:37:48.604204Z"
    },
    "jupyter": {
     "outputs_hidden": false
    },
    "papermill": {
     "duration": 0.031438,
     "end_time": "2022-09-02T18:37:48.607781",
     "exception": false,
     "start_time": "2022-09-02T18:37:48.576343",
     "status": "completed"
    },
    "tags": []
   },
   "outputs": [
    {
     "data": {
      "text/html": [
       "<div>\n",
       "<style scoped>\n",
       "    .dataframe tbody tr th:only-of-type {\n",
       "        vertical-align: middle;\n",
       "    }\n",
       "\n",
       "    .dataframe tbody tr th {\n",
       "        vertical-align: top;\n",
       "    }\n",
       "\n",
       "    .dataframe thead th {\n",
       "        text-align: right;\n",
       "    }\n",
       "</style>\n",
       "<table border=\"1\" class=\"dataframe\">\n",
       "  <thead>\n",
       "    <tr style=\"text-align: right;\">\n",
       "      <th></th>\n",
       "      <th>id</th>\n",
       "      <th>name</th>\n",
       "      <th>est_diameter_min</th>\n",
       "      <th>est_diameter_max</th>\n",
       "      <th>relative_velocity</th>\n",
       "      <th>miss_distance</th>\n",
       "      <th>orbiting_body</th>\n",
       "      <th>sentry_object</th>\n",
       "      <th>absolute_magnitude</th>\n",
       "      <th>hazardous</th>\n",
       "    </tr>\n",
       "  </thead>\n",
       "  <tbody>\n",
       "    <tr>\n",
       "      <th>0</th>\n",
       "      <td>2162635</td>\n",
       "      <td>162635 (2000 SS164)</td>\n",
       "      <td>1.198271</td>\n",
       "      <td>2.679415</td>\n",
       "      <td>13569.249224</td>\n",
       "      <td>5.483974e+07</td>\n",
       "      <td>Earth</td>\n",
       "      <td>False</td>\n",
       "      <td>16.73</td>\n",
       "      <td>False</td>\n",
       "    </tr>\n",
       "    <tr>\n",
       "      <th>1</th>\n",
       "      <td>2277475</td>\n",
       "      <td>277475 (2005 WK4)</td>\n",
       "      <td>0.265800</td>\n",
       "      <td>0.594347</td>\n",
       "      <td>73588.726663</td>\n",
       "      <td>6.143813e+07</td>\n",
       "      <td>Earth</td>\n",
       "      <td>False</td>\n",
       "      <td>20.00</td>\n",
       "      <td>True</td>\n",
       "    </tr>\n",
       "    <tr>\n",
       "      <th>2</th>\n",
       "      <td>2512244</td>\n",
       "      <td>512244 (2015 YE18)</td>\n",
       "      <td>0.722030</td>\n",
       "      <td>1.614507</td>\n",
       "      <td>114258.692129</td>\n",
       "      <td>4.979872e+07</td>\n",
       "      <td>Earth</td>\n",
       "      <td>False</td>\n",
       "      <td>17.83</td>\n",
       "      <td>False</td>\n",
       "    </tr>\n",
       "    <tr>\n",
       "      <th>3</th>\n",
       "      <td>3596030</td>\n",
       "      <td>(2012 BV13)</td>\n",
       "      <td>0.096506</td>\n",
       "      <td>0.215794</td>\n",
       "      <td>24764.303138</td>\n",
       "      <td>2.543497e+07</td>\n",
       "      <td>Earth</td>\n",
       "      <td>False</td>\n",
       "      <td>22.20</td>\n",
       "      <td>False</td>\n",
       "    </tr>\n",
       "    <tr>\n",
       "      <th>4</th>\n",
       "      <td>3667127</td>\n",
       "      <td>(2014 GE35)</td>\n",
       "      <td>0.255009</td>\n",
       "      <td>0.570217</td>\n",
       "      <td>42737.733765</td>\n",
       "      <td>4.627557e+07</td>\n",
       "      <td>Earth</td>\n",
       "      <td>False</td>\n",
       "      <td>20.09</td>\n",
       "      <td>True</td>\n",
       "    </tr>\n",
       "  </tbody>\n",
       "</table>\n",
       "</div>"
      ],
      "text/plain": [
       "        id                 name  est_diameter_min  est_diameter_max  \\\n",
       "0  2162635  162635 (2000 SS164)          1.198271          2.679415   \n",
       "1  2277475    277475 (2005 WK4)          0.265800          0.594347   \n",
       "2  2512244   512244 (2015 YE18)          0.722030          1.614507   \n",
       "3  3596030          (2012 BV13)          0.096506          0.215794   \n",
       "4  3667127          (2014 GE35)          0.255009          0.570217   \n",
       "\n",
       "   relative_velocity  miss_distance orbiting_body  sentry_object  \\\n",
       "0       13569.249224   5.483974e+07         Earth          False   \n",
       "1       73588.726663   6.143813e+07         Earth          False   \n",
       "2      114258.692129   4.979872e+07         Earth          False   \n",
       "3       24764.303138   2.543497e+07         Earth          False   \n",
       "4       42737.733765   4.627557e+07         Earth          False   \n",
       "\n",
       "   absolute_magnitude  hazardous  \n",
       "0               16.73      False  \n",
       "1               20.00       True  \n",
       "2               17.83      False  \n",
       "3               22.20      False  \n",
       "4               20.09       True  "
      ]
     },
     "execution_count": 5,
     "metadata": {},
     "output_type": "execute_result"
    }
   ],
   "source": [
    "train.head()"
   ]
  },
  {
   "cell_type": "markdown",
   "id": "ed93f4f9",
   "metadata": {
    "_cell_guid": "80303b14-2fdd-4d6e-8742-b6c9c3f62a2f",
    "_uuid": "5662918f-2497-404c-b4b0-fba34036273f",
    "papermill": {
     "duration": 0.008484,
     "end_time": "2022-09-02T18:37:48.625860",
     "exception": false,
     "start_time": "2022-09-02T18:37:48.617376",
     "status": "completed"
    },
    "tags": []
   },
   "source": [
    "**Removing unnecessary data**"
   ]
  },
  {
   "cell_type": "code",
   "execution_count": 6,
   "id": "e62c34c3",
   "metadata": {
    "_cell_guid": "dddbf8f2-fdbe-475b-beed-3c962cace762",
    "_uuid": "5a68cea9-6067-4c8f-b477-e84f34fe025c",
    "collapsed": false,
    "execution": {
     "iopub.execute_input": "2022-09-02T18:37:48.644974Z",
     "iopub.status.busy": "2022-09-02T18:37:48.644278Z",
     "iopub.status.idle": "2022-09-02T18:37:48.663030Z",
     "shell.execute_reply": "2022-09-02T18:37:48.661862Z"
    },
    "jupyter": {
     "outputs_hidden": false
    },
    "papermill": {
     "duration": 0.030987,
     "end_time": "2022-09-02T18:37:48.665363",
     "exception": false,
     "start_time": "2022-09-02T18:37:48.634376",
     "status": "completed"
    },
    "tags": []
   },
   "outputs": [
    {
     "data": {
      "text/html": [
       "<div>\n",
       "<style scoped>\n",
       "    .dataframe tbody tr th:only-of-type {\n",
       "        vertical-align: middle;\n",
       "    }\n",
       "\n",
       "    .dataframe tbody tr th {\n",
       "        vertical-align: top;\n",
       "    }\n",
       "\n",
       "    .dataframe thead th {\n",
       "        text-align: right;\n",
       "    }\n",
       "</style>\n",
       "<table border=\"1\" class=\"dataframe\">\n",
       "  <thead>\n",
       "    <tr style=\"text-align: right;\">\n",
       "      <th></th>\n",
       "      <th>est_diameter_min</th>\n",
       "      <th>est_diameter_max</th>\n",
       "      <th>relative_velocity</th>\n",
       "      <th>miss_distance</th>\n",
       "      <th>absolute_magnitude</th>\n",
       "      <th>hazardous</th>\n",
       "    </tr>\n",
       "  </thead>\n",
       "  <tbody>\n",
       "    <tr>\n",
       "      <th>0</th>\n",
       "      <td>1.198271</td>\n",
       "      <td>2.679415</td>\n",
       "      <td>13569.249224</td>\n",
       "      <td>5.483974e+07</td>\n",
       "      <td>16.73</td>\n",
       "      <td>False</td>\n",
       "    </tr>\n",
       "    <tr>\n",
       "      <th>1</th>\n",
       "      <td>0.265800</td>\n",
       "      <td>0.594347</td>\n",
       "      <td>73588.726663</td>\n",
       "      <td>6.143813e+07</td>\n",
       "      <td>20.00</td>\n",
       "      <td>True</td>\n",
       "    </tr>\n",
       "    <tr>\n",
       "      <th>2</th>\n",
       "      <td>0.722030</td>\n",
       "      <td>1.614507</td>\n",
       "      <td>114258.692129</td>\n",
       "      <td>4.979872e+07</td>\n",
       "      <td>17.83</td>\n",
       "      <td>False</td>\n",
       "    </tr>\n",
       "    <tr>\n",
       "      <th>3</th>\n",
       "      <td>0.096506</td>\n",
       "      <td>0.215794</td>\n",
       "      <td>24764.303138</td>\n",
       "      <td>2.543497e+07</td>\n",
       "      <td>22.20</td>\n",
       "      <td>False</td>\n",
       "    </tr>\n",
       "    <tr>\n",
       "      <th>4</th>\n",
       "      <td>0.255009</td>\n",
       "      <td>0.570217</td>\n",
       "      <td>42737.733765</td>\n",
       "      <td>4.627557e+07</td>\n",
       "      <td>20.09</td>\n",
       "      <td>True</td>\n",
       "    </tr>\n",
       "    <tr>\n",
       "      <th>...</th>\n",
       "      <td>...</td>\n",
       "      <td>...</td>\n",
       "      <td>...</td>\n",
       "      <td>...</td>\n",
       "      <td>...</td>\n",
       "      <td>...</td>\n",
       "    </tr>\n",
       "    <tr>\n",
       "      <th>90831</th>\n",
       "      <td>0.026580</td>\n",
       "      <td>0.059435</td>\n",
       "      <td>52078.886692</td>\n",
       "      <td>1.230039e+07</td>\n",
       "      <td>25.00</td>\n",
       "      <td>False</td>\n",
       "    </tr>\n",
       "    <tr>\n",
       "      <th>90832</th>\n",
       "      <td>0.016771</td>\n",
       "      <td>0.037501</td>\n",
       "      <td>46114.605073</td>\n",
       "      <td>5.432121e+07</td>\n",
       "      <td>26.00</td>\n",
       "      <td>False</td>\n",
       "    </tr>\n",
       "    <tr>\n",
       "      <th>90833</th>\n",
       "      <td>0.031956</td>\n",
       "      <td>0.071456</td>\n",
       "      <td>7566.807732</td>\n",
       "      <td>2.840077e+07</td>\n",
       "      <td>24.60</td>\n",
       "      <td>False</td>\n",
       "    </tr>\n",
       "    <tr>\n",
       "      <th>90834</th>\n",
       "      <td>0.007321</td>\n",
       "      <td>0.016370</td>\n",
       "      <td>69199.154484</td>\n",
       "      <td>6.869206e+07</td>\n",
       "      <td>27.80</td>\n",
       "      <td>False</td>\n",
       "    </tr>\n",
       "    <tr>\n",
       "      <th>90835</th>\n",
       "      <td>0.039862</td>\n",
       "      <td>0.089133</td>\n",
       "      <td>27024.455553</td>\n",
       "      <td>5.977213e+07</td>\n",
       "      <td>24.12</td>\n",
       "      <td>False</td>\n",
       "    </tr>\n",
       "  </tbody>\n",
       "</table>\n",
       "<p>90836 rows × 6 columns</p>\n",
       "</div>"
      ],
      "text/plain": [
       "       est_diameter_min  est_diameter_max  relative_velocity  miss_distance  \\\n",
       "0              1.198271          2.679415       13569.249224   5.483974e+07   \n",
       "1              0.265800          0.594347       73588.726663   6.143813e+07   \n",
       "2              0.722030          1.614507      114258.692129   4.979872e+07   \n",
       "3              0.096506          0.215794       24764.303138   2.543497e+07   \n",
       "4              0.255009          0.570217       42737.733765   4.627557e+07   \n",
       "...                 ...               ...                ...            ...   \n",
       "90831          0.026580          0.059435       52078.886692   1.230039e+07   \n",
       "90832          0.016771          0.037501       46114.605073   5.432121e+07   \n",
       "90833          0.031956          0.071456        7566.807732   2.840077e+07   \n",
       "90834          0.007321          0.016370       69199.154484   6.869206e+07   \n",
       "90835          0.039862          0.089133       27024.455553   5.977213e+07   \n",
       "\n",
       "       absolute_magnitude  hazardous  \n",
       "0                   16.73      False  \n",
       "1                   20.00       True  \n",
       "2                   17.83      False  \n",
       "3                   22.20      False  \n",
       "4                   20.09       True  \n",
       "...                   ...        ...  \n",
       "90831               25.00      False  \n",
       "90832               26.00      False  \n",
       "90833               24.60      False  \n",
       "90834               27.80      False  \n",
       "90835               24.12      False  \n",
       "\n",
       "[90836 rows x 6 columns]"
      ]
     },
     "execution_count": 6,
     "metadata": {},
     "output_type": "execute_result"
    }
   ],
   "source": [
    "train=train.drop(['id','orbiting_body','sentry_object','name'],axis=1)\n",
    "train"
   ]
  },
  {
   "cell_type": "code",
   "execution_count": 7,
   "id": "5b5537d7",
   "metadata": {
    "_cell_guid": "c26f69d4-2ee3-42c8-bad6-307700adf990",
    "_uuid": "f19136b5-c698-4ecd-993d-b7c33b504c17",
    "collapsed": false,
    "execution": {
     "iopub.execute_input": "2022-09-02T18:37:48.686394Z",
     "iopub.status.busy": "2022-09-02T18:37:48.685074Z",
     "iopub.status.idle": "2022-09-02T18:37:48.709524Z",
     "shell.execute_reply": "2022-09-02T18:37:48.708348Z"
    },
    "jupyter": {
     "outputs_hidden": false
    },
    "papermill": {
     "duration": 0.037169,
     "end_time": "2022-09-02T18:37:48.712360",
     "exception": false,
     "start_time": "2022-09-02T18:37:48.675191",
     "status": "completed"
    },
    "tags": []
   },
   "outputs": [
    {
     "data": {
      "text/html": [
       "<div>\n",
       "<style scoped>\n",
       "    .dataframe tbody tr th:only-of-type {\n",
       "        vertical-align: middle;\n",
       "    }\n",
       "\n",
       "    .dataframe tbody tr th {\n",
       "        vertical-align: top;\n",
       "    }\n",
       "\n",
       "    .dataframe thead th {\n",
       "        text-align: right;\n",
       "    }\n",
       "</style>\n",
       "<table border=\"1\" class=\"dataframe\">\n",
       "  <thead>\n",
       "    <tr style=\"text-align: right;\">\n",
       "      <th></th>\n",
       "      <th>est_diameter_min</th>\n",
       "      <th>est_diameter_max</th>\n",
       "      <th>relative_velocity</th>\n",
       "      <th>miss_distance</th>\n",
       "      <th>absolute_magnitude</th>\n",
       "      <th>hazardous</th>\n",
       "    </tr>\n",
       "  </thead>\n",
       "  <tbody>\n",
       "    <tr>\n",
       "      <th>0</th>\n",
       "      <td>1.198271</td>\n",
       "      <td>2.679415</td>\n",
       "      <td>13569.249224</td>\n",
       "      <td>5.483974e+07</td>\n",
       "      <td>16.73</td>\n",
       "      <td>0</td>\n",
       "    </tr>\n",
       "    <tr>\n",
       "      <th>1</th>\n",
       "      <td>0.265800</td>\n",
       "      <td>0.594347</td>\n",
       "      <td>73588.726663</td>\n",
       "      <td>6.143813e+07</td>\n",
       "      <td>20.00</td>\n",
       "      <td>1</td>\n",
       "    </tr>\n",
       "    <tr>\n",
       "      <th>2</th>\n",
       "      <td>0.722030</td>\n",
       "      <td>1.614507</td>\n",
       "      <td>114258.692129</td>\n",
       "      <td>4.979872e+07</td>\n",
       "      <td>17.83</td>\n",
       "      <td>0</td>\n",
       "    </tr>\n",
       "    <tr>\n",
       "      <th>3</th>\n",
       "      <td>0.096506</td>\n",
       "      <td>0.215794</td>\n",
       "      <td>24764.303138</td>\n",
       "      <td>2.543497e+07</td>\n",
       "      <td>22.20</td>\n",
       "      <td>0</td>\n",
       "    </tr>\n",
       "    <tr>\n",
       "      <th>4</th>\n",
       "      <td>0.255009</td>\n",
       "      <td>0.570217</td>\n",
       "      <td>42737.733765</td>\n",
       "      <td>4.627557e+07</td>\n",
       "      <td>20.09</td>\n",
       "      <td>1</td>\n",
       "    </tr>\n",
       "    <tr>\n",
       "      <th>...</th>\n",
       "      <td>...</td>\n",
       "      <td>...</td>\n",
       "      <td>...</td>\n",
       "      <td>...</td>\n",
       "      <td>...</td>\n",
       "      <td>...</td>\n",
       "    </tr>\n",
       "    <tr>\n",
       "      <th>90831</th>\n",
       "      <td>0.026580</td>\n",
       "      <td>0.059435</td>\n",
       "      <td>52078.886692</td>\n",
       "      <td>1.230039e+07</td>\n",
       "      <td>25.00</td>\n",
       "      <td>0</td>\n",
       "    </tr>\n",
       "    <tr>\n",
       "      <th>90832</th>\n",
       "      <td>0.016771</td>\n",
       "      <td>0.037501</td>\n",
       "      <td>46114.605073</td>\n",
       "      <td>5.432121e+07</td>\n",
       "      <td>26.00</td>\n",
       "      <td>0</td>\n",
       "    </tr>\n",
       "    <tr>\n",
       "      <th>90833</th>\n",
       "      <td>0.031956</td>\n",
       "      <td>0.071456</td>\n",
       "      <td>7566.807732</td>\n",
       "      <td>2.840077e+07</td>\n",
       "      <td>24.60</td>\n",
       "      <td>0</td>\n",
       "    </tr>\n",
       "    <tr>\n",
       "      <th>90834</th>\n",
       "      <td>0.007321</td>\n",
       "      <td>0.016370</td>\n",
       "      <td>69199.154484</td>\n",
       "      <td>6.869206e+07</td>\n",
       "      <td>27.80</td>\n",
       "      <td>0</td>\n",
       "    </tr>\n",
       "    <tr>\n",
       "      <th>90835</th>\n",
       "      <td>0.039862</td>\n",
       "      <td>0.089133</td>\n",
       "      <td>27024.455553</td>\n",
       "      <td>5.977213e+07</td>\n",
       "      <td>24.12</td>\n",
       "      <td>0</td>\n",
       "    </tr>\n",
       "  </tbody>\n",
       "</table>\n",
       "<p>90836 rows × 6 columns</p>\n",
       "</div>"
      ],
      "text/plain": [
       "       est_diameter_min  est_diameter_max  relative_velocity  miss_distance  \\\n",
       "0              1.198271          2.679415       13569.249224   5.483974e+07   \n",
       "1              0.265800          0.594347       73588.726663   6.143813e+07   \n",
       "2              0.722030          1.614507      114258.692129   4.979872e+07   \n",
       "3              0.096506          0.215794       24764.303138   2.543497e+07   \n",
       "4              0.255009          0.570217       42737.733765   4.627557e+07   \n",
       "...                 ...               ...                ...            ...   \n",
       "90831          0.026580          0.059435       52078.886692   1.230039e+07   \n",
       "90832          0.016771          0.037501       46114.605073   5.432121e+07   \n",
       "90833          0.031956          0.071456        7566.807732   2.840077e+07   \n",
       "90834          0.007321          0.016370       69199.154484   6.869206e+07   \n",
       "90835          0.039862          0.089133       27024.455553   5.977213e+07   \n",
       "\n",
       "       absolute_magnitude  hazardous  \n",
       "0                   16.73          0  \n",
       "1                   20.00          1  \n",
       "2                   17.83          0  \n",
       "3                   22.20          0  \n",
       "4                   20.09          1  \n",
       "...                   ...        ...  \n",
       "90831               25.00          0  \n",
       "90832               26.00          0  \n",
       "90833               24.60          0  \n",
       "90834               27.80          0  \n",
       "90835               24.12          0  \n",
       "\n",
       "[90836 rows x 6 columns]"
      ]
     },
     "execution_count": 7,
     "metadata": {},
     "output_type": "execute_result"
    }
   ],
   "source": [
    "from sklearn.preprocessing import LabelEncoder\n",
    "le=LabelEncoder()\n",
    "train['hazardous']=le.fit_transform(train['hazardous'])\n",
    "train"
   ]
  },
  {
   "cell_type": "code",
   "execution_count": 8,
   "id": "d256a9da",
   "metadata": {
    "_cell_guid": "587412a6-d8c6-4247-ab6b-ed5f3ec2bca5",
    "_uuid": "b37c9652-4be3-4ab1-b524-1fb15cc1655a",
    "collapsed": false,
    "execution": {
     "iopub.execute_input": "2022-09-02T18:37:48.732832Z",
     "iopub.status.busy": "2022-09-02T18:37:48.732068Z",
     "iopub.status.idle": "2022-09-02T18:37:48.741402Z",
     "shell.execute_reply": "2022-09-02T18:37:48.740615Z"
    },
    "jupyter": {
     "outputs_hidden": false
    },
    "papermill": {
     "duration": 0.022238,
     "end_time": "2022-09-02T18:37:48.743731",
     "exception": false,
     "start_time": "2022-09-02T18:37:48.721493",
     "status": "completed"
    },
    "tags": []
   },
   "outputs": [],
   "source": [
    "X=train.drop(['hazardous'],axis=1)\n",
    "y=train['hazardous']"
   ]
  },
  {
   "cell_type": "code",
   "execution_count": 9,
   "id": "c3a8afa8",
   "metadata": {
    "_cell_guid": "71ad537a-631a-49b0-946c-4d5e08790e68",
    "_uuid": "d6b9a45c-99b0-4f17-bd9a-1963d5611b99",
    "collapsed": false,
    "execution": {
     "iopub.execute_input": "2022-09-02T18:37:48.764046Z",
     "iopub.status.busy": "2022-09-02T18:37:48.763249Z",
     "iopub.status.idle": "2022-09-02T18:37:48.779596Z",
     "shell.execute_reply": "2022-09-02T18:37:48.778464Z"
    },
    "jupyter": {
     "outputs_hidden": false
    },
    "papermill": {
     "duration": 0.029103,
     "end_time": "2022-09-02T18:37:48.781861",
     "exception": false,
     "start_time": "2022-09-02T18:37:48.752758",
     "status": "completed"
    },
    "tags": []
   },
   "outputs": [
    {
     "data": {
      "text/html": [
       "<div>\n",
       "<style scoped>\n",
       "    .dataframe tbody tr th:only-of-type {\n",
       "        vertical-align: middle;\n",
       "    }\n",
       "\n",
       "    .dataframe tbody tr th {\n",
       "        vertical-align: top;\n",
       "    }\n",
       "\n",
       "    .dataframe thead th {\n",
       "        text-align: right;\n",
       "    }\n",
       "</style>\n",
       "<table border=\"1\" class=\"dataframe\">\n",
       "  <thead>\n",
       "    <tr style=\"text-align: right;\">\n",
       "      <th></th>\n",
       "      <th>est_diameter_min</th>\n",
       "      <th>est_diameter_max</th>\n",
       "      <th>relative_velocity</th>\n",
       "      <th>miss_distance</th>\n",
       "      <th>absolute_magnitude</th>\n",
       "    </tr>\n",
       "  </thead>\n",
       "  <tbody>\n",
       "    <tr>\n",
       "      <th>0</th>\n",
       "      <td>1.198271</td>\n",
       "      <td>2.679415</td>\n",
       "      <td>13569.249224</td>\n",
       "      <td>5.483974e+07</td>\n",
       "      <td>16.73</td>\n",
       "    </tr>\n",
       "    <tr>\n",
       "      <th>1</th>\n",
       "      <td>0.265800</td>\n",
       "      <td>0.594347</td>\n",
       "      <td>73588.726663</td>\n",
       "      <td>6.143813e+07</td>\n",
       "      <td>20.00</td>\n",
       "    </tr>\n",
       "    <tr>\n",
       "      <th>2</th>\n",
       "      <td>0.722030</td>\n",
       "      <td>1.614507</td>\n",
       "      <td>114258.692129</td>\n",
       "      <td>4.979872e+07</td>\n",
       "      <td>17.83</td>\n",
       "    </tr>\n",
       "    <tr>\n",
       "      <th>3</th>\n",
       "      <td>0.096506</td>\n",
       "      <td>0.215794</td>\n",
       "      <td>24764.303138</td>\n",
       "      <td>2.543497e+07</td>\n",
       "      <td>22.20</td>\n",
       "    </tr>\n",
       "    <tr>\n",
       "      <th>4</th>\n",
       "      <td>0.255009</td>\n",
       "      <td>0.570217</td>\n",
       "      <td>42737.733765</td>\n",
       "      <td>4.627557e+07</td>\n",
       "      <td>20.09</td>\n",
       "    </tr>\n",
       "    <tr>\n",
       "      <th>...</th>\n",
       "      <td>...</td>\n",
       "      <td>...</td>\n",
       "      <td>...</td>\n",
       "      <td>...</td>\n",
       "      <td>...</td>\n",
       "    </tr>\n",
       "    <tr>\n",
       "      <th>90831</th>\n",
       "      <td>0.026580</td>\n",
       "      <td>0.059435</td>\n",
       "      <td>52078.886692</td>\n",
       "      <td>1.230039e+07</td>\n",
       "      <td>25.00</td>\n",
       "    </tr>\n",
       "    <tr>\n",
       "      <th>90832</th>\n",
       "      <td>0.016771</td>\n",
       "      <td>0.037501</td>\n",
       "      <td>46114.605073</td>\n",
       "      <td>5.432121e+07</td>\n",
       "      <td>26.00</td>\n",
       "    </tr>\n",
       "    <tr>\n",
       "      <th>90833</th>\n",
       "      <td>0.031956</td>\n",
       "      <td>0.071456</td>\n",
       "      <td>7566.807732</td>\n",
       "      <td>2.840077e+07</td>\n",
       "      <td>24.60</td>\n",
       "    </tr>\n",
       "    <tr>\n",
       "      <th>90834</th>\n",
       "      <td>0.007321</td>\n",
       "      <td>0.016370</td>\n",
       "      <td>69199.154484</td>\n",
       "      <td>6.869206e+07</td>\n",
       "      <td>27.80</td>\n",
       "    </tr>\n",
       "    <tr>\n",
       "      <th>90835</th>\n",
       "      <td>0.039862</td>\n",
       "      <td>0.089133</td>\n",
       "      <td>27024.455553</td>\n",
       "      <td>5.977213e+07</td>\n",
       "      <td>24.12</td>\n",
       "    </tr>\n",
       "  </tbody>\n",
       "</table>\n",
       "<p>90836 rows × 5 columns</p>\n",
       "</div>"
      ],
      "text/plain": [
       "       est_diameter_min  est_diameter_max  relative_velocity  miss_distance  \\\n",
       "0              1.198271          2.679415       13569.249224   5.483974e+07   \n",
       "1              0.265800          0.594347       73588.726663   6.143813e+07   \n",
       "2              0.722030          1.614507      114258.692129   4.979872e+07   \n",
       "3              0.096506          0.215794       24764.303138   2.543497e+07   \n",
       "4              0.255009          0.570217       42737.733765   4.627557e+07   \n",
       "...                 ...               ...                ...            ...   \n",
       "90831          0.026580          0.059435       52078.886692   1.230039e+07   \n",
       "90832          0.016771          0.037501       46114.605073   5.432121e+07   \n",
       "90833          0.031956          0.071456        7566.807732   2.840077e+07   \n",
       "90834          0.007321          0.016370       69199.154484   6.869206e+07   \n",
       "90835          0.039862          0.089133       27024.455553   5.977213e+07   \n",
       "\n",
       "       absolute_magnitude  \n",
       "0                   16.73  \n",
       "1                   20.00  \n",
       "2                   17.83  \n",
       "3                   22.20  \n",
       "4                   20.09  \n",
       "...                   ...  \n",
       "90831               25.00  \n",
       "90832               26.00  \n",
       "90833               24.60  \n",
       "90834               27.80  \n",
       "90835               24.12  \n",
       "\n",
       "[90836 rows x 5 columns]"
      ]
     },
     "execution_count": 9,
     "metadata": {},
     "output_type": "execute_result"
    }
   ],
   "source": [
    "X"
   ]
  },
  {
   "cell_type": "code",
   "execution_count": 10,
   "id": "d7a24dae",
   "metadata": {
    "_cell_guid": "8ac66381-4dbc-49b0-8f3d-1e12147829ec",
    "_uuid": "9e336e70-2e1a-4f06-88d1-8668660a19ca",
    "collapsed": false,
    "execution": {
     "iopub.execute_input": "2022-09-02T18:37:48.803103Z",
     "iopub.status.busy": "2022-09-02T18:37:48.802449Z",
     "iopub.status.idle": "2022-09-02T18:37:48.810491Z",
     "shell.execute_reply": "2022-09-02T18:37:48.809427Z"
    },
    "jupyter": {
     "outputs_hidden": false
    },
    "papermill": {
     "duration": 0.021211,
     "end_time": "2022-09-02T18:37:48.812634",
     "exception": false,
     "start_time": "2022-09-02T18:37:48.791423",
     "status": "completed"
    },
    "tags": []
   },
   "outputs": [
    {
     "data": {
      "text/plain": [
       "0        0\n",
       "1        1\n",
       "2        0\n",
       "3        0\n",
       "4        1\n",
       "        ..\n",
       "90831    0\n",
       "90832    0\n",
       "90833    0\n",
       "90834    0\n",
       "90835    0\n",
       "Name: hazardous, Length: 90836, dtype: int64"
      ]
     },
     "execution_count": 10,
     "metadata": {},
     "output_type": "execute_result"
    }
   ],
   "source": [
    "y"
   ]
  },
  {
   "cell_type": "code",
   "execution_count": 11,
   "id": "0a01a246",
   "metadata": {
    "_cell_guid": "1449efb8-edab-4db1-8815-a01d7d0ae1b4",
    "_uuid": "e0bd7786-d8bd-4312-b066-0e4190489a23",
    "collapsed": false,
    "execution": {
     "iopub.execute_input": "2022-09-02T18:37:48.833622Z",
     "iopub.status.busy": "2022-09-02T18:37:48.832961Z",
     "iopub.status.idle": "2022-09-02T18:37:48.850975Z",
     "shell.execute_reply": "2022-09-02T18:37:48.850158Z"
    },
    "jupyter": {
     "outputs_hidden": false
    },
    "papermill": {
     "duration": 0.031273,
     "end_time": "2022-09-02T18:37:48.853402",
     "exception": false,
     "start_time": "2022-09-02T18:37:48.822129",
     "status": "completed"
    },
    "tags": []
   },
   "outputs": [],
   "source": [
    "X_train,X_test,y_train,y_test=train_test_split(X,y,test_size=0.3)"
   ]
  },
  {
   "cell_type": "code",
   "execution_count": 12,
   "id": "9471b7d4",
   "metadata": {
    "_cell_guid": "2bb9bb55-bc58-43ed-9eea-bbc036cfe49d",
    "_uuid": "b6418a60-61a2-42c0-9d50-0ef42d497caf",
    "collapsed": false,
    "execution": {
     "iopub.execute_input": "2022-09-02T18:37:48.874242Z",
     "iopub.status.busy": "2022-09-02T18:37:48.873596Z",
     "iopub.status.idle": "2022-09-02T18:37:48.889029Z",
     "shell.execute_reply": "2022-09-02T18:37:48.887850Z"
    },
    "jupyter": {
     "outputs_hidden": false
    },
    "papermill": {
     "duration": 0.028337,
     "end_time": "2022-09-02T18:37:48.891196",
     "exception": false,
     "start_time": "2022-09-02T18:37:48.862859",
     "status": "completed"
    },
    "tags": []
   },
   "outputs": [
    {
     "data": {
      "text/html": [
       "<div>\n",
       "<style scoped>\n",
       "    .dataframe tbody tr th:only-of-type {\n",
       "        vertical-align: middle;\n",
       "    }\n",
       "\n",
       "    .dataframe tbody tr th {\n",
       "        vertical-align: top;\n",
       "    }\n",
       "\n",
       "    .dataframe thead th {\n",
       "        text-align: right;\n",
       "    }\n",
       "</style>\n",
       "<table border=\"1\" class=\"dataframe\">\n",
       "  <thead>\n",
       "    <tr style=\"text-align: right;\">\n",
       "      <th></th>\n",
       "      <th>est_diameter_min</th>\n",
       "      <th>est_diameter_max</th>\n",
       "      <th>relative_velocity</th>\n",
       "      <th>miss_distance</th>\n",
       "      <th>absolute_magnitude</th>\n",
       "    </tr>\n",
       "  </thead>\n",
       "  <tbody>\n",
       "    <tr>\n",
       "      <th>25827</th>\n",
       "      <td>0.402305</td>\n",
       "      <td>0.899580</td>\n",
       "      <td>14979.289340</td>\n",
       "      <td>5.618638e+07</td>\n",
       "      <td>19.10</td>\n",
       "    </tr>\n",
       "    <tr>\n",
       "      <th>13109</th>\n",
       "      <td>0.856160</td>\n",
       "      <td>1.914432</td>\n",
       "      <td>59167.008197</td>\n",
       "      <td>5.917761e+07</td>\n",
       "      <td>17.46</td>\n",
       "    </tr>\n",
       "    <tr>\n",
       "      <th>69188</th>\n",
       "      <td>0.152249</td>\n",
       "      <td>0.340440</td>\n",
       "      <td>48110.586552</td>\n",
       "      <td>6.333916e+07</td>\n",
       "      <td>21.21</td>\n",
       "    </tr>\n",
       "    <tr>\n",
       "      <th>45884</th>\n",
       "      <td>0.055533</td>\n",
       "      <td>0.124177</td>\n",
       "      <td>18352.877547</td>\n",
       "      <td>5.365066e+07</td>\n",
       "      <td>23.40</td>\n",
       "    </tr>\n",
       "    <tr>\n",
       "      <th>65029</th>\n",
       "      <td>0.048368</td>\n",
       "      <td>0.108153</td>\n",
       "      <td>34595.258672</td>\n",
       "      <td>7.039937e+07</td>\n",
       "      <td>23.70</td>\n",
       "    </tr>\n",
       "    <tr>\n",
       "      <th>...</th>\n",
       "      <td>...</td>\n",
       "      <td>...</td>\n",
       "      <td>...</td>\n",
       "      <td>...</td>\n",
       "      <td>...</td>\n",
       "    </tr>\n",
       "    <tr>\n",
       "      <th>45869</th>\n",
       "      <td>0.012722</td>\n",
       "      <td>0.028447</td>\n",
       "      <td>35773.111750</td>\n",
       "      <td>3.863983e+06</td>\n",
       "      <td>26.60</td>\n",
       "    </tr>\n",
       "    <tr>\n",
       "      <th>21774</th>\n",
       "      <td>0.010582</td>\n",
       "      <td>0.023661</td>\n",
       "      <td>60554.496240</td>\n",
       "      <td>2.530966e+07</td>\n",
       "      <td>27.00</td>\n",
       "    </tr>\n",
       "    <tr>\n",
       "      <th>27308</th>\n",
       "      <td>0.022108</td>\n",
       "      <td>0.049436</td>\n",
       "      <td>43718.843537</td>\n",
       "      <td>5.379304e+07</td>\n",
       "      <td>25.40</td>\n",
       "    </tr>\n",
       "    <tr>\n",
       "      <th>12278</th>\n",
       "      <td>0.552783</td>\n",
       "      <td>1.236061</td>\n",
       "      <td>114794.759537</td>\n",
       "      <td>6.140259e+07</td>\n",
       "      <td>18.41</td>\n",
       "    </tr>\n",
       "    <tr>\n",
       "      <th>63460</th>\n",
       "      <td>0.201630</td>\n",
       "      <td>0.450858</td>\n",
       "      <td>48612.636525</td>\n",
       "      <td>3.609617e+07</td>\n",
       "      <td>20.60</td>\n",
       "    </tr>\n",
       "  </tbody>\n",
       "</table>\n",
       "<p>63585 rows × 5 columns</p>\n",
       "</div>"
      ],
      "text/plain": [
       "       est_diameter_min  est_diameter_max  relative_velocity  miss_distance  \\\n",
       "25827          0.402305          0.899580       14979.289340   5.618638e+07   \n",
       "13109          0.856160          1.914432       59167.008197   5.917761e+07   \n",
       "69188          0.152249          0.340440       48110.586552   6.333916e+07   \n",
       "45884          0.055533          0.124177       18352.877547   5.365066e+07   \n",
       "65029          0.048368          0.108153       34595.258672   7.039937e+07   \n",
       "...                 ...               ...                ...            ...   \n",
       "45869          0.012722          0.028447       35773.111750   3.863983e+06   \n",
       "21774          0.010582          0.023661       60554.496240   2.530966e+07   \n",
       "27308          0.022108          0.049436       43718.843537   5.379304e+07   \n",
       "12278          0.552783          1.236061      114794.759537   6.140259e+07   \n",
       "63460          0.201630          0.450858       48612.636525   3.609617e+07   \n",
       "\n",
       "       absolute_magnitude  \n",
       "25827               19.10  \n",
       "13109               17.46  \n",
       "69188               21.21  \n",
       "45884               23.40  \n",
       "65029               23.70  \n",
       "...                   ...  \n",
       "45869               26.60  \n",
       "21774               27.00  \n",
       "27308               25.40  \n",
       "12278               18.41  \n",
       "63460               20.60  \n",
       "\n",
       "[63585 rows x 5 columns]"
      ]
     },
     "execution_count": 12,
     "metadata": {},
     "output_type": "execute_result"
    }
   ],
   "source": [
    "\n",
    "X_train"
   ]
  },
  {
   "cell_type": "markdown",
   "id": "0e658a6c",
   "metadata": {
    "_cell_guid": "fe17b7d3-f516-4b60-8aa7-344a3a699790",
    "_uuid": "807cff5a-16b9-482a-918a-0cca49257276",
    "papermill": {
     "duration": 0.009414,
     "end_time": "2022-09-02T18:37:48.910688",
     "exception": false,
     "start_time": "2022-09-02T18:37:48.901274",
     "status": "completed"
    },
    "tags": []
   },
   "source": [
    "****"
   ]
  },
  {
   "cell_type": "markdown",
   "id": "419207e7",
   "metadata": {
    "_cell_guid": "49144168-cee3-4eeb-bfb2-eccf46b51188",
    "_uuid": "e57eb518-8554-41f0-8e4d-ed999f505796",
    "papermill": {
     "duration": 0.009422,
     "end_time": "2022-09-02T18:37:48.929873",
     "exception": false,
     "start_time": "2022-09-02T18:37:48.920451",
     "status": "completed"
    },
    "tags": []
   },
   "source": [
    "**PLOTS**"
   ]
  },
  {
   "cell_type": "code",
   "execution_count": 13,
   "id": "62826611",
   "metadata": {
    "_cell_guid": "97447656-0504-40d6-82b9-593da32fba1a",
    "_uuid": "9f9e2a1f-fca4-4675-a17a-48a202de1f7f",
    "collapsed": false,
    "execution": {
     "iopub.execute_input": "2022-09-02T18:37:48.951175Z",
     "iopub.status.busy": "2022-09-02T18:37:48.950723Z",
     "iopub.status.idle": "2022-09-02T18:37:49.492165Z",
     "shell.execute_reply": "2022-09-02T18:37:49.491037Z"
    },
    "jupyter": {
     "outputs_hidden": false
    },
    "papermill": {
     "duration": 0.555182,
     "end_time": "2022-09-02T18:37:49.494748",
     "exception": false,
     "start_time": "2022-09-02T18:37:48.939566",
     "status": "completed"
    },
    "tags": []
   },
   "outputs": [
    {
     "data": {
      "text/plain": [
       "<AxesSubplot:>"
      ]
     },
     "execution_count": 13,
     "metadata": {},
     "output_type": "execute_result"
    },
    {
     "data": {
      "image/png": "[encoded data removed]",
      "text/plain": [
       "<Figure size 864x504 with 2 Axes>"
      ]
     },
     "metadata": {
      "needs_background": "light"
     },
     "output_type": "display_data"
    }
   ],
   "source": [
    "plt.figure(figsize=(12,7))\n",
    "\n",
    "sns.heatmap(train.corr(),annot=True,cmap='viridis')\n",
    "# A heatmap with the correlation between the variables"
   ]
  },
  {
   "cell_type": "code",
   "execution_count": 14,
   "id": "0c1fbbfc",
   "metadata": {
    "execution": {
     "iopub.execute_input": "2022-09-02T18:37:49.518072Z",
     "iopub.status.busy": "2022-09-02T18:37:49.517011Z",
     "iopub.status.idle": "2022-09-02T18:37:49.660155Z",
     "shell.execute_reply": "2022-09-02T18:37:49.658965Z"
    },
    "papermill": {
     "duration": 0.157218,
     "end_time": "2022-09-02T18:37:49.662558",
     "exception": false,
     "start_time": "2022-09-02T18:37:49.505340",
     "status": "completed"
    },
    "tags": []
   },
   "outputs": [
    {
     "name": "stderr",
     "output_type": "stream",
     "text": [
      "/opt/conda/lib/python3.7/site-packages/seaborn/_decorators.py:43: FutureWarning: Pass the following variable as a keyword arg: x. From version 0.12, the only valid positional argument will be `data`, and passing other arguments without an explicit keyword will result in an error or misinterpretation.\n",
      "  FutureWarning\n"
     ]
    },
    {
     "data": {
      "text/plain": [
       "<AxesSubplot:xlabel='hazardous', ylabel='count'>"
      ]
     },
     "execution_count": 14,
     "metadata": {},
     "output_type": "execute_result"
    },
    {
     "data": {
      "image/png": "[encoded data removed]",
      "text/plain": [
       "<Figure size 432x288 with 1 Axes>"
      ]
     },
     "metadata": {
      "needs_background": "light"
     },
     "output_type": "display_data"
    }
   ],
   "source": [
    "sns.countplot(train['hazardous'])"
   ]
  },
  {
   "cell_type": "code",
   "execution_count": 15,
   "id": "a1594577",
   "metadata": {
    "_cell_guid": "c0b5a785-62b6-4274-a714-a5a8e19e9545",
    "_uuid": "a16a04f1-17bb-4ec2-8eb4-24b3d3fd8ffc",
    "collapsed": false,
    "execution": {
     "iopub.execute_input": "2022-09-02T18:37:49.686800Z",
     "iopub.status.busy": "2022-09-02T18:37:49.685802Z",
     "iopub.status.idle": "2022-09-02T18:37:50.420342Z",
     "shell.execute_reply": "2022-09-02T18:37:50.419062Z"
    },
    "jupyter": {
     "outputs_hidden": false
    },
    "papermill": {
     "duration": 0.749297,
     "end_time": "2022-09-02T18:37:50.422904",
     "exception": false,
     "start_time": "2022-09-02T18:37:49.673607",
     "status": "completed"
    },
    "tags": []
   },
   "outputs": [
    {
     "data": {
      "text/plain": [
       "<AxesSubplot:>"
      ]
     },
     "execution_count": 15,
     "metadata": {},
     "output_type": "execute_result"
    },
    {
     "data": {
      "image/png": "[encoded data removed]",
      "text/plain": [
       "<Figure size 432x288 with 1 Axes>"
      ]
     },
     "metadata": {
      "needs_background": "light"
     },
     "output_type": "display_data"
    }
   ],
   "source": [
    "plot=['est_diameter_min', 'est_diameter_max','relative_velocity', 'miss_distance','absolute_magnitude', 'hazardous']\n",
    "train.boxplot(plot)"
   ]
  },
  {
   "cell_type": "markdown",
   "id": "e2621231",
   "metadata": {
    "papermill": {
     "duration": 0.010856,
     "end_time": "2022-09-02T18:37:50.445324",
     "exception": false,
     "start_time": "2022-09-02T18:37:50.434468",
     "status": "completed"
    },
    "tags": []
   },
   "source": [
    "****"
   ]
  },
  {
   "cell_type": "markdown",
   "id": "34400a4a",
   "metadata": {
    "_cell_guid": "4817420c-7bc7-4376-ad66-c55122c8f274",
    "_uuid": "65b1b222-d0d6-4c2e-838a-ce3036d2b2be",
    "papermill": {
     "duration": 0.010708,
     "end_time": "2022-09-02T18:37:50.467085",
     "exception": false,
     "start_time": "2022-09-02T18:37:50.456377",
     "status": "completed"
    },
    "tags": []
   },
   "source": [
    "**IMPLEMENTATION OF KERNELS**"
   ]
  },
  {
   "cell_type": "code",
   "execution_count": 16,
   "id": "2de0c428",
   "metadata": {
    "_cell_guid": "c0e915e9-604d-43e4-bf40-7821964884b7",
    "_uuid": "52cbd863-c2fa-4c0f-98f0-d8f15bb96ce1",
    "collapsed": false,
    "execution": {
     "iopub.execute_input": "2022-09-02T18:37:50.492070Z",
     "iopub.status.busy": "2022-09-02T18:37:50.491279Z",
     "iopub.status.idle": "2022-09-02T18:38:43.206947Z",
     "shell.execute_reply": "2022-09-02T18:38:43.205524Z"
    },
    "jupyter": {
     "outputs_hidden": false
    },
    "papermill": {
     "duration": 52.742307,
     "end_time": "2022-09-02T18:38:43.220460",
     "exception": false,
     "start_time": "2022-09-02T18:37:50.478153",
     "status": "completed"
    },
    "tags": []
   },
   "outputs": [
    {
     "name": "stdout",
     "output_type": "stream",
     "text": [
      "Accuracy 0.9056181424534879\n",
      "Precision 0.820144219940906\n",
      "f1: 0.860764495960317\n"
     ]
    },
    {
     "name": "stderr",
     "output_type": "stream",
     "text": [
      "/opt/conda/lib/python3.7/site-packages/sklearn/metrics/_classification.py:1318: UndefinedMetricWarning: Precision is ill-defined and being set to 0.0 in labels with no predicted samples. Use `zero_division` parameter to control this behavior.\n",
      "  _warn_prf(average, modifier, msg_start, len(result))\n"
     ]
    }
   ],
   "source": [
    "clf=SVC(kernel=\"rbf\")\n",
    "clf.fit(X_train,y_train)\n",
    "y_pred=clf.predict(X_test)\n",
    "accuracy_1=accuracy_score(y_test,y_pred)\n",
    "precision_1=precision_score(y_test,y_pred, average=\"weighted\")\n",
    "f1score_1=f1_score(y_test,y_pred, average=\"weighted\")\n",
    "print(\"Accuracy\",accuracy_1)\n",
    "print(\"Precision\",precision_1)\n",
    "print(\"f1:\",f1score_1)"
   ]
  },
  {
   "cell_type": "code",
   "execution_count": 17,
   "id": "1546d177",
   "metadata": {
    "execution": {
     "iopub.execute_input": "2022-09-02T18:38:43.244797Z",
     "iopub.status.busy": "2022-09-02T18:38:43.244206Z",
     "iopub.status.idle": "2022-09-02T18:40:12.707601Z",
     "shell.execute_reply": "2022-09-02T18:40:12.705714Z"
    },
    "papermill": {
     "duration": 89.487823,
     "end_time": "2022-09-02T18:40:12.719374",
     "exception": false,
     "start_time": "2022-09-02T18:38:43.231551",
     "status": "completed"
    },
    "tags": []
   },
   "outputs": [
    {
     "name": "stdout",
     "output_type": "stream",
     "text": [
      "Accuracy 0.9056181424534879\n",
      "Precision 0.820144219940906\n",
      "f1: 0.860764495960317\n"
     ]
    },
    {
     "name": "stderr",
     "output_type": "stream",
     "text": [
      "/opt/conda/lib/python3.7/site-packages/sklearn/metrics/_classification.py:1318: UndefinedMetricWarning: Precision is ill-defined and being set to 0.0 in labels with no predicted samples. Use `zero_division` parameter to control this behavior.\n",
      "  _warn_prf(average, modifier, msg_start, len(result))\n"
     ]
    }
   ],
   "source": [
    "clf=SVC(kernel=\"poly\")\n",
    "clf.fit(X_train,y_train)\n",
    "y_pred=clf.predict(X_test)\n",
    "accuracy_2=accuracy_score(y_test,y_pred)\n",
    "precision_2=precision_score(y_test,y_pred, average=\"weighted\")\n",
    "f1score_2=f1_score(y_test,y_pred, average=\"weighted\")\n",
    "print(\"Accuracy\",accuracy_2)\n",
    "print(\"Precision\",precision_2)\n",
    "print(\"f1:\",f1score_2)"
   ]
  },
  {
   "cell_type": "code",
   "execution_count": 18,
   "id": "5b1bb3c7",
   "metadata": {
    "_cell_guid": "aaca04ed-e098-480f-aac7-3da385d05ebd",
    "_uuid": "8fee500d-2b67-43f4-a3f9-f2a7d00c019e",
    "collapsed": false,
    "execution": {
     "iopub.execute_input": "2022-09-02T18:40:12.746174Z",
     "iopub.status.busy": "2022-09-02T18:40:12.744928Z",
     "iopub.status.idle": "2022-09-02T18:41:45.369078Z",
     "shell.execute_reply": "2022-09-02T18:41:45.367970Z"
    },
    "jupyter": {
     "outputs_hidden": false
    },
    "papermill": {
     "duration": 92.650967,
     "end_time": "2022-09-02T18:41:45.383031",
     "exception": false,
     "start_time": "2022-09-02T18:40:12.732064",
     "status": "completed"
    },
    "tags": []
   },
   "outputs": [
    {
     "name": "stdout",
     "output_type": "stream",
     "text": [
      "Accuracy 0.8255476863234377\n",
      "Precision 0.8280034034845142\n",
      "f1: 0.8267711797804734\n"
     ]
    }
   ],
   "source": [
    "clf=SVC(kernel=\"sigmoid\")\n",
    "clf.fit(X_train,y_train)\n",
    "y_pred=clf.predict(X_test)\n",
    "accuracy_3=accuracy_score(y_test,y_pred)\n",
    "precision_3=precision_score(y_test,y_pred, average=\"weighted\")\n",
    "f1score_3=f1_score(y_test,y_pred, average=\"weighted\")\n",
    "print(\"Accuracy\",accuracy_3)\n",
    "print(\"Precision\",precision_3)\n",
    "print(\"f1:\",f1score_3)"
   ]
  },
  {
   "cell_type": "code",
   "execution_count": 19,
   "id": "d104a4f7",
   "metadata": {
    "execution": {
     "iopub.execute_input": "2022-09-02T18:41:45.409126Z",
     "iopub.status.busy": "2022-09-02T18:41:45.408682Z",
     "iopub.status.idle": "2022-09-02T18:41:45.414414Z",
     "shell.execute_reply": "2022-09-02T18:41:45.413338Z"
    },
    "papermill": {
     "duration": 0.021066,
     "end_time": "2022-09-02T18:41:45.416727",
     "exception": false,
     "start_time": "2022-09-02T18:41:45.395661",
     "status": "completed"
    },
    "tags": []
   },
   "outputs": [],
   "source": [
    "accuracy_scores=[accuracy_1,accuracy_2,accuracy_3]\n",
    "precision_scores=[precision_1,precision_2,precision_3]\n",
    "f1scores=[f1score_1,f1score_2,f1score_3]\n",
    "kernels=['Rbf','polynomial','Sigmoid']"
   ]
  },
  {
   "cell_type": "code",
   "execution_count": 20,
   "id": "b2b1869b",
   "metadata": {
    "execution": {
     "iopub.execute_input": "2022-09-02T18:41:45.442545Z",
     "iopub.status.busy": "2022-09-02T18:41:45.442135Z",
     "iopub.status.idle": "2022-09-02T18:41:45.576582Z",
     "shell.execute_reply": "2022-09-02T18:41:45.575415Z"
    },
    "papermill": {
     "duration": 0.150635,
     "end_time": "2022-09-02T18:41:45.579416",
     "exception": false,
     "start_time": "2022-09-02T18:41:45.428781",
     "status": "completed"
    },
    "tags": []
   },
   "outputs": [
    {
     "data": {
      "text/plain": [
       "<AxesSubplot:>"
      ]
     },
     "execution_count": 20,
     "metadata": {},
     "output_type": "execute_result"
    },
    {
     "data": {
      "image/png": "[encoded data removed]",
      "text/plain": [
       "<Figure size 432x288 with 1 Axes>"
      ]
     },
     "metadata": {
      "needs_background": "light"
     },
     "output_type": "display_data"
    }
   ],
   "source": [
    "sns.barplot(x=kernels, y=accuracy_scores)"
   ]
  },
  {
   "cell_type": "code",
   "execution_count": 21,
   "id": "1f516068",
   "metadata": {
    "execution": {
     "iopub.execute_input": "2022-09-02T18:41:45.606341Z",
     "iopub.status.busy": "2022-09-02T18:41:45.605629Z",
     "iopub.status.idle": "2022-09-02T18:41:45.743112Z",
     "shell.execute_reply": "2022-09-02T18:41:45.741869Z"
    },
    "papermill": {
     "duration": 0.154731,
     "end_time": "2022-09-02T18:41:45.746483",
     "exception": false,
     "start_time": "2022-09-02T18:41:45.591752",
     "status": "completed"
    },
    "tags": []
   },
   "outputs": [
    {
     "data": {
      "text/plain": [
       "<AxesSubplot:>"
      ]
     },
     "execution_count": 21,
     "metadata": {},
     "output_type": "execute_result"
    },
    {
     "data": {
      "image/png": "[encoded data removed]",
      "text/plain": [
       "<Figure size 432x288 with 1 Axes>"
      ]
     },
     "metadata": {
      "needs_background": "light"
     },
     "output_type": "display_data"
    }
   ],
   "source": [
    "sns.barplot(x=kernels, y=precision_scores)"
   ]
  },
  {
   "cell_type": "code",
   "execution_count": 22,
   "id": "bf8ad0f3",
   "metadata": {
    "execution": {
     "iopub.execute_input": "2022-09-02T18:41:45.773807Z",
     "iopub.status.busy": "2022-09-02T18:41:45.773112Z",
     "iopub.status.idle": "2022-09-02T18:41:45.892381Z",
     "shell.execute_reply": "2022-09-02T18:41:45.891127Z"
    },
    "papermill": {
     "duration": 0.135879,
     "end_time": "2022-09-02T18:41:45.895016",
     "exception": false,
     "start_time": "2022-09-02T18:41:45.759137",
     "status": "completed"
    },
    "tags": []
   },
   "outputs": [
    {
     "data": {
      "text/plain": [
       "<AxesSubplot:>"
      ]
     },
     "execution_count": 22,
     "metadata": {},
     "output_type": "execute_result"
    },
    {
     "data": {
      "image/png": "[encoded data removed]",
      "text/plain": [
       "<Figure size 432x288 with 1 Axes>"
      ]
     },
     "metadata": {
      "needs_background": "light"
     },
     "output_type": "display_data"
    }
   ],
   "source": [
    "sns.barplot(x=kernels, y=f1scores)"
   ]
  },
  {
   "cell_type": "code",
   "execution_count": 23,
   "id": "f28b3aa0",
   "metadata": {
    "execution": {
     "iopub.execute_input": "2022-09-02T18:41:45.923674Z",
     "iopub.status.busy": "2022-09-02T18:41:45.922560Z",
     "iopub.status.idle": "2022-09-02T18:41:46.004828Z",
     "shell.execute_reply": "2022-09-02T18:41:46.004026Z"
    },
    "papermill": {
     "duration": 0.09921,
     "end_time": "2022-09-02T18:41:46.007273",
     "exception": false,
     "start_time": "2022-09-02T18:41:45.908063",
     "status": "completed"
    },
    "tags": []
   },
   "outputs": [
    {
     "data": {
      "text/plain": [
       "([<matplotlib.patches.Wedge at 0x7f8f14585410>,\n",
       "  <matplotlib.patches.Wedge at 0x7f8f14585950>,\n",
       "  <matplotlib.patches.Wedge at 0x7f8f14585e90>],\n",
       " [Text(0.5366393746720414, 0.9602177781897191, ''),\n",
       "  Text(-1.099034213374582, -0.04608468110027379, ''),\n",
       "  Text(0.5763966060120093, -0.9368921776692539, '')])"
      ]
     },
     "execution_count": 23,
     "metadata": {},
     "output_type": "execute_result"
    },
    {
     "data": {
      "image/png": "[encoded data removed]",
      "text/plain": [
       "<Figure size 432x288 with 1 Axes>"
      ]
     },
     "metadata": {},
     "output_type": "display_data"
    }
   ],
   "source": [
    "plt.pie(f1scores)"
   ]
  },
  {
   "cell_type": "code",
   "execution_count": 24,
   "id": "ca3e79f3",
   "metadata": {
    "execution": {
     "iopub.execute_input": "2022-09-02T18:41:46.036704Z",
     "iopub.status.busy": "2022-09-02T18:41:46.036027Z",
     "iopub.status.idle": "2022-09-02T18:41:46.106454Z",
     "shell.execute_reply": "2022-09-02T18:41:46.105340Z"
    },
    "papermill": {
     "duration": 0.087664,
     "end_time": "2022-09-02T18:41:46.108873",
     "exception": false,
     "start_time": "2022-09-02T18:41:46.021209",
     "status": "completed"
    },
    "tags": []
   },
   "outputs": [
    {
     "data": {
      "text/plain": [
       "([<matplotlib.patches.Wedge at 0x7f8f145e7b10>,\n",
       "  <matplotlib.patches.Wedge at 0x7f8f145d8150>,\n",
       "  <matplotlib.patches.Wedge at 0x7f8f145d8690>],\n",
       " [Text(0.5531732827084851, 0.9507887879532019, ''),\n",
       "  Text(-1.0999449686040579, 0.011003001527680856, ''),\n",
       "  Text(0.543635215528363, -0.9562744127275551, '')])"
      ]
     },
     "execution_count": 24,
     "metadata": {},
     "output_type": "execute_result"
    },
    {
     "data": {
      "image/png": "[encoded data removed]",
      "text/plain": [
       "<Figure size 432x288 with 1 Axes>"
      ]
     },
     "metadata": {},
     "output_type": "display_data"
    }
   ],
   "source": [
    "plt.pie(precision_scores)"
   ]
  },
  {
   "cell_type": "code",
   "execution_count": null,
   "id": "f87b93b4",
   "metadata": {
    "_cell_guid": "ee328d35-32bb-4565-98c6-4f379fd0f0f7",
    "_uuid": "62d26131-3991-447a-a3a1-927caa56a2b7",
    "collapsed": false,
    "jupyter": {
     "outputs_hidden": false
    },
    "papermill": {
     "duration": 0.013518,
     "end_time": "2022-09-02T18:41:46.136255",
     "exception": false,
     "start_time": "2022-09-02T18:41:46.122737",
     "status": "completed"
    },
    "tags": []
   },
   "outputs": [],
   "source": []
  },
  {
   "cell_type": "markdown",
   "id": "69c6f8b8",
   "metadata": {
    "papermill": {
     "duration": 0.013357,
     "end_time": "2022-09-02T18:41:46.163271",
     "exception": false,
     "start_time": "2022-09-02T18:41:46.149914",
     "status": "completed"
    },
    "tags": []
   },
   "source": []
  },
  {
   "cell_type": "markdown",
   "id": "99a63c9e",
   "metadata": {
    "papermill": {
     "duration": 0.01351,
     "end_time": "2022-09-02T18:41:46.190968",
     "exception": false,
     "start_time": "2022-09-02T18:41:46.177458",
     "status": "completed"
    },
    "tags": []
   },
   "source": [
    "****"
   ]
  }
 ],
 "metadata": {
  "kernelspec": {
   "display_name": "Python 3",
   "language": "python",
   "name": "python3"
  },
  "language_info": {
   "codemirror_mode": {
    "name": "ipython",
    "version": 3
   },
   "file_extension": ".py",
   "mimetype": "text/x-python",
   "name": "python",
   "nbconvert_exporter": "python",
   "pygments_lexer": "ipython3",
   "version": "3.7.12"
  },
  "papermill": {
   "default_parameters": {},
   "duration": 251.239708,
   "end_time": "2022-09-02T18:41:49.238125",
   "environment_variables": {},
   "exception": null,
   "input_path": "__notebook__.ipynb",
   "output_path": "__notebook__.ipynb",
   "parameters": {},
   "start_time": "2022-09-02T18:37:37.998417",
   "version": "2.3.4"
  }
 },
 "nbformat": 4,
 "nbformat_minor": 5
}
